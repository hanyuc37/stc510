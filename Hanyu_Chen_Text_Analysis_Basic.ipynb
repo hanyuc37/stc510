{
  "nbformat": 4,
  "nbformat_minor": 0,
  "metadata": {
    "colab": {
      "provenance": [],
      "mount_file_id": "1sBSl5k9DoqWfxLBScomFKz3MDcca54V8",
      "authorship_tag": "ABX9TyPI/gjwI6rfJ5mj3dQlYiE2",
      "include_colab_link": true
    },
    "kernelspec": {
      "name": "python3",
      "display_name": "Python 3"
    },
    "language_info": {
      "name": "python"
    }
  },
  "cells": [
    {
      "cell_type": "markdown",
      "metadata": {
        "id": "view-in-github",
        "colab_type": "text"
      },
      "source": [
        "<a href=\"https://colab.research.google.com/github/hanyuc37/stc510/blob/main/Hanyu_Chen_Text_Analysis_Basic.ipynb\" target=\"_parent\"><img src=\"https://colab.research.google.com/assets/colab-badge.svg\" alt=\"Open In Colab\"/></a>"
      ]
    },
    {
      "cell_type": "markdown",
      "source": [
        "We're talking tens of thousands of questions and answers. The thing is, we need to be able to categorize these into questions/answers that are high value intelligence and those that are of lesser value.\"\n",
        "\n",
        "We need you to give us something that will work without you ever seeing our transcripts. We were thinking you might be able to use a collection of questions and answersLinks to an external site. (or really, answers and questions) from the television show 'Jeopardy!' to build a classifier that might work. It is a long-shot, since there isn't a lot of linguistic difference between low- and high-value questions, but even if you can demonstrate it can't be done effectively using some common approaches, it will at least give us something to go on.\"\n",
        "\n",
        "\n",
        "Parse, clean, and organize the Jeopardy! question data file to train a Naive Bayesian classifier.\n",
        "Pass the Text Analysis Basics quiz with a score of 85% or better.\n",
        "Just as we have built a classifier above, your aim here is to make sense of the data presented, and create a binary classifier (\"high value\" and \"low value,\" based on the points available for each) for questions. Despite the large number of questions, this is an extraordinarily difficult classification problem. Consider it as a human coder: how often could you tell those questions that are \"easy\" versus \"hard\"? The degree to which you are successful in this is largely based on your own contextual knowledge--indeed, you might be tempted to classify questions you know the answer to as \"easy\" and those you do not as \"hard.\" The computer doesn't know the answers to any of these.\n",
        "\n",
        "For that reason, do not be discouraged if your classifier does not perform well. This constitutes an especially difficult problem for a simple classifier to solve."
      ],
      "metadata": {
        "id": "Eos-e8x-P7vB"
      }
    },
    {
      "cell_type": "code",
      "execution_count": 2,
      "metadata": {
        "id": "HOhNG3badGhs"
      },
      "outputs": [],
      "source": [
        "import numpy as np\n",
        "import pandas as pd"
      ]
    },
    {
      "cell_type": "code",
      "source": [
        "jeopardy = pd.read_json(\"/content/drive/MyDrive/STC 510/Text Analytics/jeopardy.json\")"
      ],
      "metadata": {
        "id": "0tD10AtKzKM6"
      },
      "execution_count": null,
      "outputs": []
    },
    {
      "cell_type": "code",
      "source": [
        "jeopardy.head()"
      ],
      "metadata": {
        "colab": {
          "base_uri": "https://localhost:8080/",
          "height": 337
        },
        "id": "YYBbRnRGzg4j",
        "outputId": "71ff9713-b9e4-4640-ba44-75def4ba2f01"
      },
      "execution_count": null,
      "outputs": [
        {
          "output_type": "execute_result",
          "data": {
            "text/plain": [
              "                          category    air_date  \\\n",
              "0                          HISTORY  2004-12-31   \n",
              "1  ESPN's TOP 10 ALL-TIME ATHLETES  2004-12-31   \n",
              "2      EVERYBODY TALKS ABOUT IT...  2004-12-31   \n",
              "3                 THE COMPANY LINE  2004-12-31   \n",
              "4              EPITAPHS & TRIBUTES  2004-12-31   \n",
              "\n",
              "                                            question value       answer  \\\n",
              "0  'For the last 8 years of his life, Galileo was...  $200   Copernicus   \n",
              "1  'No. 2: 1912 Olympian; football star at Carlis...  $200   Jim Thorpe   \n",
              "2  'The city of Yuma in this state has a record a...  $200      Arizona   \n",
              "3  'In 1963, live on \"The Art Linkletter Show\", t...  $200  McDonald\\'s   \n",
              "4  'Signer of the Dec. of Indep., framer of the C...  $200   John Adams   \n",
              "\n",
              "       round  show_number  \n",
              "0  Jeopardy!         4680  \n",
              "1  Jeopardy!         4680  \n",
              "2  Jeopardy!         4680  \n",
              "3  Jeopardy!         4680  \n",
              "4  Jeopardy!         4680  "
            ],
            "text/html": [
              "\n",
              "  <div id=\"df-8bf36d0b-ca3c-4a4b-a746-41ef677a262a\">\n",
              "    <div class=\"colab-df-container\">\n",
              "      <div>\n",
              "<style scoped>\n",
              "    .dataframe tbody tr th:only-of-type {\n",
              "        vertical-align: middle;\n",
              "    }\n",
              "\n",
              "    .dataframe tbody tr th {\n",
              "        vertical-align: top;\n",
              "    }\n",
              "\n",
              "    .dataframe thead th {\n",
              "        text-align: right;\n",
              "    }\n",
              "</style>\n",
              "<table border=\"1\" class=\"dataframe\">\n",
              "  <thead>\n",
              "    <tr style=\"text-align: right;\">\n",
              "      <th></th>\n",
              "      <th>category</th>\n",
              "      <th>air_date</th>\n",
              "      <th>question</th>\n",
              "      <th>value</th>\n",
              "      <th>answer</th>\n",
              "      <th>round</th>\n",
              "      <th>show_number</th>\n",
              "    </tr>\n",
              "  </thead>\n",
              "  <tbody>\n",
              "    <tr>\n",
              "      <th>0</th>\n",
              "      <td>HISTORY</td>\n",
              "      <td>2004-12-31</td>\n",
              "      <td>'For the last 8 years of his life, Galileo was...</td>\n",
              "      <td>$200</td>\n",
              "      <td>Copernicus</td>\n",
              "      <td>Jeopardy!</td>\n",
              "      <td>4680</td>\n",
              "    </tr>\n",
              "    <tr>\n",
              "      <th>1</th>\n",
              "      <td>ESPN's TOP 10 ALL-TIME ATHLETES</td>\n",
              "      <td>2004-12-31</td>\n",
              "      <td>'No. 2: 1912 Olympian; football star at Carlis...</td>\n",
              "      <td>$200</td>\n",
              "      <td>Jim Thorpe</td>\n",
              "      <td>Jeopardy!</td>\n",
              "      <td>4680</td>\n",
              "    </tr>\n",
              "    <tr>\n",
              "      <th>2</th>\n",
              "      <td>EVERYBODY TALKS ABOUT IT...</td>\n",
              "      <td>2004-12-31</td>\n",
              "      <td>'The city of Yuma in this state has a record a...</td>\n",
              "      <td>$200</td>\n",
              "      <td>Arizona</td>\n",
              "      <td>Jeopardy!</td>\n",
              "      <td>4680</td>\n",
              "    </tr>\n",
              "    <tr>\n",
              "      <th>3</th>\n",
              "      <td>THE COMPANY LINE</td>\n",
              "      <td>2004-12-31</td>\n",
              "      <td>'In 1963, live on \"The Art Linkletter Show\", t...</td>\n",
              "      <td>$200</td>\n",
              "      <td>McDonald\\'s</td>\n",
              "      <td>Jeopardy!</td>\n",
              "      <td>4680</td>\n",
              "    </tr>\n",
              "    <tr>\n",
              "      <th>4</th>\n",
              "      <td>EPITAPHS &amp; TRIBUTES</td>\n",
              "      <td>2004-12-31</td>\n",
              "      <td>'Signer of the Dec. of Indep., framer of the C...</td>\n",
              "      <td>$200</td>\n",
              "      <td>John Adams</td>\n",
              "      <td>Jeopardy!</td>\n",
              "      <td>4680</td>\n",
              "    </tr>\n",
              "  </tbody>\n",
              "</table>\n",
              "</div>\n",
              "      <button class=\"colab-df-convert\" onclick=\"convertToInteractive('df-8bf36d0b-ca3c-4a4b-a746-41ef677a262a')\"\n",
              "              title=\"Convert this dataframe to an interactive table.\"\n",
              "              style=\"display:none;\">\n",
              "        \n",
              "  <svg xmlns=\"http://www.w3.org/2000/svg\" height=\"24px\"viewBox=\"0 0 24 24\"\n",
              "       width=\"24px\">\n",
              "    <path d=\"M0 0h24v24H0V0z\" fill=\"none\"/>\n",
              "    <path d=\"M18.56 5.44l.94 2.06.94-2.06 2.06-.94-2.06-.94-.94-2.06-.94 2.06-2.06.94zm-11 1L8.5 8.5l.94-2.06 2.06-.94-2.06-.94L8.5 2.5l-.94 2.06-2.06.94zm10 10l.94 2.06.94-2.06 2.06-.94-2.06-.94-.94-2.06-.94 2.06-2.06.94z\"/><path d=\"M17.41 7.96l-1.37-1.37c-.4-.4-.92-.59-1.43-.59-.52 0-1.04.2-1.43.59L10.3 9.45l-7.72 7.72c-.78.78-.78 2.05 0 2.83L4 21.41c.39.39.9.59 1.41.59.51 0 1.02-.2 1.41-.59l7.78-7.78 2.81-2.81c.8-.78.8-2.07 0-2.86zM5.41 20L4 18.59l7.72-7.72 1.47 1.35L5.41 20z\"/>\n",
              "  </svg>\n",
              "      </button>\n",
              "      \n",
              "  <style>\n",
              "    .colab-df-container {\n",
              "      display:flex;\n",
              "      flex-wrap:wrap;\n",
              "      gap: 12px;\n",
              "    }\n",
              "\n",
              "    .colab-df-convert {\n",
              "      background-color: #E8F0FE;\n",
              "      border: none;\n",
              "      border-radius: 50%;\n",
              "      cursor: pointer;\n",
              "      display: none;\n",
              "      fill: #1967D2;\n",
              "      height: 32px;\n",
              "      padding: 0 0 0 0;\n",
              "      width: 32px;\n",
              "    }\n",
              "\n",
              "    .colab-df-convert:hover {\n",
              "      background-color: #E2EBFA;\n",
              "      box-shadow: 0px 1px 2px rgba(60, 64, 67, 0.3), 0px 1px 3px 1px rgba(60, 64, 67, 0.15);\n",
              "      fill: #174EA6;\n",
              "    }\n",
              "\n",
              "    [theme=dark] .colab-df-convert {\n",
              "      background-color: #3B4455;\n",
              "      fill: #D2E3FC;\n",
              "    }\n",
              "\n",
              "    [theme=dark] .colab-df-convert:hover {\n",
              "      background-color: #434B5C;\n",
              "      box-shadow: 0px 1px 3px 1px rgba(0, 0, 0, 0.15);\n",
              "      filter: drop-shadow(0px 1px 2px rgba(0, 0, 0, 0.3));\n",
              "      fill: #FFFFFF;\n",
              "    }\n",
              "  </style>\n",
              "\n",
              "      <script>\n",
              "        const buttonEl =\n",
              "          document.querySelector('#df-8bf36d0b-ca3c-4a4b-a746-41ef677a262a button.colab-df-convert');\n",
              "        buttonEl.style.display =\n",
              "          google.colab.kernel.accessAllowed ? 'block' : 'none';\n",
              "\n",
              "        async function convertToInteractive(key) {\n",
              "          const element = document.querySelector('#df-8bf36d0b-ca3c-4a4b-a746-41ef677a262a');\n",
              "          const dataTable =\n",
              "            await google.colab.kernel.invokeFunction('convertToInteractive',\n",
              "                                                     [key], {});\n",
              "          if (!dataTable) return;\n",
              "\n",
              "          const docLinkHtml = 'Like what you see? Visit the ' +\n",
              "            '<a target=\"_blank\" href=https://colab.research.google.com/notebooks/data_table.ipynb>data table notebook</a>'\n",
              "            + ' to learn more about interactive tables.';\n",
              "          element.innerHTML = '';\n",
              "          dataTable['output_type'] = 'display_data';\n",
              "          await google.colab.output.renderOutput(dataTable, element);\n",
              "          const docLink = document.createElement('div');\n",
              "          docLink.innerHTML = docLinkHtml;\n",
              "          element.appendChild(docLink);\n",
              "        }\n",
              "      </script>\n",
              "    </div>\n",
              "  </div>\n",
              "  "
            ]
          },
          "metadata": {},
          "execution_count": 3
        }
      ]
    },
    {
      "cell_type": "code",
      "source": [
        "from nltk import word_tokenize\n",
        "import nltk\n",
        "nltk.download('punkt')"
      ],
      "metadata": {
        "colab": {
          "base_uri": "https://localhost:8080/"
        },
        "id": "zqDuFMCZANXz",
        "outputId": "3a118e6e-066a-4f7e-b59b-7eeff10f28bb"
      },
      "execution_count": 3,
      "outputs": [
        {
          "output_type": "stream",
          "name": "stderr",
          "text": [
            "[nltk_data] Downloading package punkt to /root/nltk_data...\n",
            "[nltk_data]   Unzipping tokenizers/punkt.zip.\n"
          ]
        },
        {
          "output_type": "execute_result",
          "data": {
            "text/plain": [
              "True"
            ]
          },
          "metadata": {},
          "execution_count": 3
        }
      ]
    },
    {
      "cell_type": "code",
      "source": [
        "# change all the text in lowercases\n",
        "for i in range(len(jeopardy['question'])):\n",
        "  jeopardy['question'][i] = jeopardy['question'][i].lower()"
      ],
      "metadata": {
        "colab": {
          "base_uri": "https://localhost:8080/"
        },
        "id": "UbEgdX4SbGzN",
        "outputId": "e4ba37f7-00d4-4b39-c7f2-2f9b9d40ae24"
      },
      "execution_count": null,
      "outputs": [
        {
          "output_type": "stream",
          "name": "stderr",
          "text": [
            "<ipython-input-5-1ddb7fc099cf>:3: SettingWithCopyWarning: \n",
            "A value is trying to be set on a copy of a slice from a DataFrame\n",
            "\n",
            "See the caveats in the documentation: https://pandas.pydata.org/pandas-docs/stable/user_guide/indexing.html#returning-a-view-versus-a-copy\n",
            "  jeopardy['question'][i] = jeopardy['question'][i].lower()\n"
          ]
        }
      ]
    },
    {
      "cell_type": "code",
      "source": [
        "# Change `category` to lowercases\n",
        "for i in range(len(jeopardy['category'])):\n",
        "  jeopardy['category'][i] = jeopardy['category'][i].lower()"
      ],
      "metadata": {
        "colab": {
          "base_uri": "https://localhost:8080/"
        },
        "id": "Ch-2dIdceg-0",
        "outputId": "f156b261-c514-48d6-9216-fcabd4374618"
      },
      "execution_count": null,
      "outputs": [
        {
          "output_type": "stream",
          "name": "stderr",
          "text": [
            "<ipython-input-6-7f4b8743aac4>:2: SettingWithCopyWarning: \n",
            "A value is trying to be set on a copy of a slice from a DataFrame\n",
            "\n",
            "See the caveats in the documentation: https://pandas.pydata.org/pandas-docs/stable/user_guide/indexing.html#returning-a-view-versus-a-copy\n",
            "  jeopardy['category'][i] = jeopardy['category'][i].lower()\n"
          ]
        }
      ]
    },
    {
      "cell_type": "code",
      "source": [
        "# Change the `answer` column to lowercases\n",
        "for i in range(len(jeopardy['answer'])):\n",
        "  jeopardy['answer'][i] = jeopardy['answer'][i].lower()"
      ],
      "metadata": {
        "colab": {
          "base_uri": "https://localhost:8080/"
        },
        "id": "YCpQYa7Sf5mR",
        "outputId": "cda9e906-492c-4bbb-9c31-98c1393a6c19"
      },
      "execution_count": null,
      "outputs": [
        {
          "output_type": "stream",
          "name": "stderr",
          "text": [
            "<ipython-input-7-321e5be7241c>:2: SettingWithCopyWarning: \n",
            "A value is trying to be set on a copy of a slice from a DataFrame\n",
            "\n",
            "See the caveats in the documentation: https://pandas.pydata.org/pandas-docs/stable/user_guide/indexing.html#returning-a-view-versus-a-copy\n",
            "  jeopardy['answer'][i] = jeopardy['answer'][i].lower()\n"
          ]
        }
      ]
    },
    {
      "cell_type": "code",
      "source": [
        "# dealing with NAs\n",
        "jeopardy.isna().sum()\n",
        "jeopardy = jeopardy.dropna(axis = 0)"
      ],
      "metadata": {
        "id": "0jStC0glbmjk"
      },
      "execution_count": null,
      "outputs": []
    },
    {
      "cell_type": "code",
      "source": [
        "#jeopardy.to_csv(\"jeopardy_lower.csv\")"
      ],
      "metadata": {
        "id": "nAXcntaTGvRB"
      },
      "execution_count": null,
      "outputs": []
    },
    {
      "cell_type": "code",
      "source": [
        "jeopardy = pd.read_csv(\"/content/drive/MyDrive/STC 510/Text Analytics/jeopardy_lower.csv\")"
      ],
      "metadata": {
        "id": "ZoZqJ0R2vFdJ"
      },
      "execution_count": 92,
      "outputs": []
    },
    {
      "cell_type": "code",
      "source": [
        "# tokenize\n",
        "token_questions = [word_tokenize(x) for x in jeopardy['question']]"
      ],
      "metadata": {
        "id": "RQ8i0o30ET7F"
      },
      "execution_count": 93,
      "outputs": []
    },
    {
      "cell_type": "code",
      "source": [
        "# Create a column with tokenized questions\n",
        "jeopardy['token_questions'] = token_questions"
      ],
      "metadata": {
        "id": "XDDQbhS4kOVF"
      },
      "execution_count": 94,
      "outputs": []
    },
    {
      "cell_type": "code",
      "source": [
        "jeopardy.head()\n",
        "jeopardy = jeopardy.drop(columns = 'Unnamed: 0')"
      ],
      "metadata": {
        "id": "2YPQy_deaufU"
      },
      "execution_count": 95,
      "outputs": []
    },
    {
      "cell_type": "markdown",
      "source": [
        "Remove punctuations and stop words"
      ],
      "metadata": {
        "id": "PSYKHgNxaOMr"
      }
    },
    {
      "cell_type": "code",
      "source": [
        "import string\n",
        "from nltk import download\n",
        "from nltk.corpus import stopwords\n",
        "download('stopwords')\n",
        "eng_stopwords = set(stopwords.words('english')+ list(string.punctuation)+['``','...']) #some wired puncts"
      ],
      "metadata": {
        "id": "GPC8IoEML-Td",
        "colab": {
          "base_uri": "https://localhost:8080/"
        },
        "outputId": "7f74ff83-2f14-41d0-e4ba-cd8e52753fc1"
      },
      "execution_count": 96,
      "outputs": [
        {
          "output_type": "stream",
          "name": "stderr",
          "text": [
            "[nltk_data] Downloading package stopwords to /root/nltk_data...\n",
            "[nltk_data]   Package stopwords is already up-to-date!\n"
          ]
        }
      ]
    },
    {
      "cell_type": "code",
      "source": [
        "# Remove stopped words and punctuations\n",
        "for i in range(len(jeopardy['token_questions'])):\n",
        "  for j in jeopardy['token_questions'][i]:\n",
        "    if j in eng_stopwords:\n",
        "      jeopardy['token_questions'][i].remove(j)"
      ],
      "metadata": {
        "id": "qLzwXvXkMIgo"
      },
      "execution_count": 97,
      "outputs": []
    },
    {
      "cell_type": "code",
      "source": [
        "# Stemmer\n",
        "from nltk import PorterStemmer, WordNetLemmatizer\n",
        "download('wordnet')\n",
        "stemmer = PorterStemmer()\n",
        "for i in range(len(jeopardy['token_questions'])):\n",
        "  for j in jeopardy['token_questions'][i]:\n",
        "    j = stemmer.stem(j)"
      ],
      "metadata": {
        "id": "mr-u7LG0m-tA",
        "colab": {
          "base_uri": "https://localhost:8080/"
        },
        "outputId": "8e36c2d2-65c2-4a35-e6d5-bde353331ba3"
      },
      "execution_count": 98,
      "outputs": [
        {
          "output_type": "stream",
          "name": "stderr",
          "text": [
            "[nltk_data] Downloading package wordnet to /root/nltk_data...\n",
            "[nltk_data]   Package wordnet is already up-to-date!\n"
          ]
        }
      ]
    },
    {
      "cell_type": "code",
      "source": [
        "jeopardy_c = jeopardy.copy()"
      ],
      "metadata": {
        "id": "aYNS8HbgQjaA"
      },
      "execution_count": 99,
      "outputs": []
    },
    {
      "cell_type": "markdown",
      "source": [
        "Define `high-value` and `low-value` based on the value of each question. I assume the higher the value in $, the harder the question is."
      ],
      "metadata": {
        "id": "gHgX3s0KmFoM"
      }
    },
    {
      "cell_type": "code",
      "source": [
        "jeopardy_c.head()"
      ],
      "metadata": {
        "colab": {
          "base_uri": "https://localhost:8080/",
          "height": 423
        },
        "id": "7ILYE24Utpg_",
        "outputId": "6a7a31d4-1d42-421f-9bb8-c9004fc7af14"
      },
      "execution_count": 100,
      "outputs": [
        {
          "output_type": "execute_result",
          "data": {
            "text/plain": [
              "                          category    air_date  \\\n",
              "0                          history  2004-12-31   \n",
              "1  espn's top 10 all-time athletes  2004-12-31   \n",
              "2      everybody talks about it...  2004-12-31   \n",
              "3                 the company line  2004-12-31   \n",
              "4              epitaphs & tributes  2004-12-31   \n",
              "\n",
              "                                            question value       answer  \\\n",
              "0  'for the last 8 years of his life, galileo was...  $200   copernicus   \n",
              "1  'no. 2: 1912 olympian; football star at carlis...  $200   jim thorpe   \n",
              "2  'the city of yuma in this state has a record a...  $200      arizona   \n",
              "3  'in 1963, live on \"the art linkletter show\", t...  $200  mcdonald\\'s   \n",
              "4  'signer of the dec. of indep., framer of the c...  $200   john adams   \n",
              "\n",
              "       round  show_number                                    token_questions  \n",
              "0  Jeopardy!         4680  ['for, last, 8, years, his, life, galileo, und...  \n",
              "1  Jeopardy!         4680  ['no, 2, 1912, olympian, football, star, carli...  \n",
              "2  Jeopardy!         4680  ['the, city, yuma, this, state, a, record, ave...  \n",
              "3  Jeopardy!         4680  ['in, 1963, live, ``, art, linkletter, show, '...  \n",
              "4  Jeopardy!         4680  ['signer, the, dec., indep., framer, the, cons...  "
            ],
            "text/html": [
              "\n",
              "  <div id=\"df-f788181c-9288-490f-9e41-e6d1a21a13a1\">\n",
              "    <div class=\"colab-df-container\">\n",
              "      <div>\n",
              "<style scoped>\n",
              "    .dataframe tbody tr th:only-of-type {\n",
              "        vertical-align: middle;\n",
              "    }\n",
              "\n",
              "    .dataframe tbody tr th {\n",
              "        vertical-align: top;\n",
              "    }\n",
              "\n",
              "    .dataframe thead th {\n",
              "        text-align: right;\n",
              "    }\n",
              "</style>\n",
              "<table border=\"1\" class=\"dataframe\">\n",
              "  <thead>\n",
              "    <tr style=\"text-align: right;\">\n",
              "      <th></th>\n",
              "      <th>category</th>\n",
              "      <th>air_date</th>\n",
              "      <th>question</th>\n",
              "      <th>value</th>\n",
              "      <th>answer</th>\n",
              "      <th>round</th>\n",
              "      <th>show_number</th>\n",
              "      <th>token_questions</th>\n",
              "    </tr>\n",
              "  </thead>\n",
              "  <tbody>\n",
              "    <tr>\n",
              "      <th>0</th>\n",
              "      <td>history</td>\n",
              "      <td>2004-12-31</td>\n",
              "      <td>'for the last 8 years of his life, galileo was...</td>\n",
              "      <td>$200</td>\n",
              "      <td>copernicus</td>\n",
              "      <td>Jeopardy!</td>\n",
              "      <td>4680</td>\n",
              "      <td>['for, last, 8, years, his, life, galileo, und...</td>\n",
              "    </tr>\n",
              "    <tr>\n",
              "      <th>1</th>\n",
              "      <td>espn's top 10 all-time athletes</td>\n",
              "      <td>2004-12-31</td>\n",
              "      <td>'no. 2: 1912 olympian; football star at carlis...</td>\n",
              "      <td>$200</td>\n",
              "      <td>jim thorpe</td>\n",
              "      <td>Jeopardy!</td>\n",
              "      <td>4680</td>\n",
              "      <td>['no, 2, 1912, olympian, football, star, carli...</td>\n",
              "    </tr>\n",
              "    <tr>\n",
              "      <th>2</th>\n",
              "      <td>everybody talks about it...</td>\n",
              "      <td>2004-12-31</td>\n",
              "      <td>'the city of yuma in this state has a record a...</td>\n",
              "      <td>$200</td>\n",
              "      <td>arizona</td>\n",
              "      <td>Jeopardy!</td>\n",
              "      <td>4680</td>\n",
              "      <td>['the, city, yuma, this, state, a, record, ave...</td>\n",
              "    </tr>\n",
              "    <tr>\n",
              "      <th>3</th>\n",
              "      <td>the company line</td>\n",
              "      <td>2004-12-31</td>\n",
              "      <td>'in 1963, live on \"the art linkletter show\", t...</td>\n",
              "      <td>$200</td>\n",
              "      <td>mcdonald\\'s</td>\n",
              "      <td>Jeopardy!</td>\n",
              "      <td>4680</td>\n",
              "      <td>['in, 1963, live, ``, art, linkletter, show, '...</td>\n",
              "    </tr>\n",
              "    <tr>\n",
              "      <th>4</th>\n",
              "      <td>epitaphs &amp; tributes</td>\n",
              "      <td>2004-12-31</td>\n",
              "      <td>'signer of the dec. of indep., framer of the c...</td>\n",
              "      <td>$200</td>\n",
              "      <td>john adams</td>\n",
              "      <td>Jeopardy!</td>\n",
              "      <td>4680</td>\n",
              "      <td>['signer, the, dec., indep., framer, the, cons...</td>\n",
              "    </tr>\n",
              "  </tbody>\n",
              "</table>\n",
              "</div>\n",
              "      <button class=\"colab-df-convert\" onclick=\"convertToInteractive('df-f788181c-9288-490f-9e41-e6d1a21a13a1')\"\n",
              "              title=\"Convert this dataframe to an interactive table.\"\n",
              "              style=\"display:none;\">\n",
              "        \n",
              "  <svg xmlns=\"http://www.w3.org/2000/svg\" height=\"24px\"viewBox=\"0 0 24 24\"\n",
              "       width=\"24px\">\n",
              "    <path d=\"M0 0h24v24H0V0z\" fill=\"none\"/>\n",
              "    <path d=\"M18.56 5.44l.94 2.06.94-2.06 2.06-.94-2.06-.94-.94-2.06-.94 2.06-2.06.94zm-11 1L8.5 8.5l.94-2.06 2.06-.94-2.06-.94L8.5 2.5l-.94 2.06-2.06.94zm10 10l.94 2.06.94-2.06 2.06-.94-2.06-.94-.94-2.06-.94 2.06-2.06.94z\"/><path d=\"M17.41 7.96l-1.37-1.37c-.4-.4-.92-.59-1.43-.59-.52 0-1.04.2-1.43.59L10.3 9.45l-7.72 7.72c-.78.78-.78 2.05 0 2.83L4 21.41c.39.39.9.59 1.41.59.51 0 1.02-.2 1.41-.59l7.78-7.78 2.81-2.81c.8-.78.8-2.07 0-2.86zM5.41 20L4 18.59l7.72-7.72 1.47 1.35L5.41 20z\"/>\n",
              "  </svg>\n",
              "      </button>\n",
              "      \n",
              "  <style>\n",
              "    .colab-df-container {\n",
              "      display:flex;\n",
              "      flex-wrap:wrap;\n",
              "      gap: 12px;\n",
              "    }\n",
              "\n",
              "    .colab-df-convert {\n",
              "      background-color: #E8F0FE;\n",
              "      border: none;\n",
              "      border-radius: 50%;\n",
              "      cursor: pointer;\n",
              "      display: none;\n",
              "      fill: #1967D2;\n",
              "      height: 32px;\n",
              "      padding: 0 0 0 0;\n",
              "      width: 32px;\n",
              "    }\n",
              "\n",
              "    .colab-df-convert:hover {\n",
              "      background-color: #E2EBFA;\n",
              "      box-shadow: 0px 1px 2px rgba(60, 64, 67, 0.3), 0px 1px 3px 1px rgba(60, 64, 67, 0.15);\n",
              "      fill: #174EA6;\n",
              "    }\n",
              "\n",
              "    [theme=dark] .colab-df-convert {\n",
              "      background-color: #3B4455;\n",
              "      fill: #D2E3FC;\n",
              "    }\n",
              "\n",
              "    [theme=dark] .colab-df-convert:hover {\n",
              "      background-color: #434B5C;\n",
              "      box-shadow: 0px 1px 3px 1px rgba(0, 0, 0, 0.15);\n",
              "      filter: drop-shadow(0px 1px 2px rgba(0, 0, 0, 0.3));\n",
              "      fill: #FFFFFF;\n",
              "    }\n",
              "  </style>\n",
              "\n",
              "      <script>\n",
              "        const buttonEl =\n",
              "          document.querySelector('#df-f788181c-9288-490f-9e41-e6d1a21a13a1 button.colab-df-convert');\n",
              "        buttonEl.style.display =\n",
              "          google.colab.kernel.accessAllowed ? 'block' : 'none';\n",
              "\n",
              "        async function convertToInteractive(key) {\n",
              "          const element = document.querySelector('#df-f788181c-9288-490f-9e41-e6d1a21a13a1');\n",
              "          const dataTable =\n",
              "            await google.colab.kernel.invokeFunction('convertToInteractive',\n",
              "                                                     [key], {});\n",
              "          if (!dataTable) return;\n",
              "\n",
              "          const docLinkHtml = 'Like what you see? Visit the ' +\n",
              "            '<a target=\"_blank\" href=https://colab.research.google.com/notebooks/data_table.ipynb>data table notebook</a>'\n",
              "            + ' to learn more about interactive tables.';\n",
              "          element.innerHTML = '';\n",
              "          dataTable['output_type'] = 'display_data';\n",
              "          await google.colab.output.renderOutput(dataTable, element);\n",
              "          const docLink = document.createElement('div');\n",
              "          docLink.innerHTML = docLinkHtml;\n",
              "          element.appendChild(docLink);\n",
              "        }\n",
              "      </script>\n",
              "    </div>\n",
              "  </div>\n",
              "  "
            ]
          },
          "metadata": {},
          "execution_count": 100
        }
      ]
    },
    {
      "cell_type": "code",
      "source": [
        "# Delete the '$' from values\n",
        "jeopardy_c['value'].unique()\n",
        "jeopardy_c['value'] = jeopardy_c['value'].str.replace('$','')\n",
        "jeopardy_c['value'] = jeopardy_c['value'].str.replace(',','')"
      ],
      "metadata": {
        "id": "_6jmMr0y7NnT",
        "colab": {
          "base_uri": "https://localhost:8080/"
        },
        "outputId": "d6d3d021-5269-4126-858a-1679f4a16356"
      },
      "execution_count": 101,
      "outputs": [
        {
          "output_type": "stream",
          "name": "stderr",
          "text": [
            "<ipython-input-101-703a47bf69de>:3: FutureWarning: The default value of regex will change from True to False in a future version. In addition, single character regular expressions will *not* be treated as literal strings when regex=True.\n",
            "  jeopardy_c['value'] = jeopardy_c['value'].str.replace('$','')\n"
          ]
        }
      ]
    },
    {
      "cell_type": "code",
      "source": [
        "# Convert value to integer\n",
        "jeopardy_c['value'] = jeopardy_c['value'].astype(int)\n",
        "# Check the distribution of values\n",
        "import seaborn as sns\n",
        "sns.boxplot(y = jeopardy_c['value']) \n",
        "# A lot of outliers, use median as the threshold of \"high-value\" and \"low-value\"\n",
        "print(jeopardy_c['value'].median()) # 600\n",
        "value_p = []\n",
        "for value in jeopardy_c['value']:\n",
        "  if value <= 600:\n",
        "    value_p.append(\"low value\")\n",
        "  else:\n",
        "    value_p.append(\"high value\")\n",
        "jeopardy_c['value_p'] = value_p"
      ],
      "metadata": {
        "id": "LzXiGfJ_U73o",
        "colab": {
          "base_uri": "https://localhost:8080/",
          "height": 269
        },
        "outputId": "50eb6bdd-a635-416b-e8cc-f649f2502267"
      },
      "execution_count": 102,
      "outputs": [
        {
          "output_type": "stream",
          "name": "stdout",
          "text": [
            "600.0\n"
          ]
        },
        {
          "output_type": "display_data",
          "data": {
            "text/plain": [
              "<Figure size 432x288 with 1 Axes>"
            ],
            "image/png": "[encoded data removed]"
          },
          "metadata": {
            "needs_background": "light"
          }
        }
      ]
    },
    {
      "cell_type": "code",
      "source": [
        "# unlist `token_question` column\n",
        "for i in range(len(jeopardy_c['token_questions'])):\n",
        "  jeopardy_c['token_questions'][i] = ((((str(jeopardy_c['token_questions'][i]).replace(',','')).replace ('[','')).replace(']','')).replace(\"'\",'')).replace('\"','')"
      ],
      "metadata": {
        "id": "sP42R5P_YZMd",
        "colab": {
          "base_uri": "https://localhost:8080/"
        },
        "outputId": "9926f0a1-fe76-4f77-eeee-d6cf1acc9464"
      },
      "execution_count": 105,
      "outputs": [
        {
          "output_type": "stream",
          "name": "stderr",
          "text": [
            "<ipython-input-105-8ae660377123>:3: SettingWithCopyWarning: \n",
            "A value is trying to be set on a copy of a slice from a DataFrame\n",
            "\n",
            "See the caveats in the documentation: https://pandas.pydata.org/pandas-docs/stable/user_guide/indexing.html#returning-a-view-versus-a-copy\n",
            "  jeopardy_c['token_questions'][i] = ((((str(jeopardy_c['token_questions'][i]).replace(',','')).replace ('[','')).replace(']','')).replace(\"'\",'')).replace('\"','')\n"
          ]
        }
      ]
    },
    {
      "cell_type": "code",
      "source": [
        "jeopardy_c.head()"
      ],
      "metadata": {
        "colab": {
          "base_uri": "https://localhost:8080/",
          "height": 510
        },
        "id": "SvOCWPLXtgx1",
        "outputId": "76b4216c-cd26-472b-a5b3-b145b62b5537"
      },
      "execution_count": 106,
      "outputs": [
        {
          "output_type": "execute_result",
          "data": {
            "text/plain": [
              "                          category    air_date  \\\n",
              "0                          history  2004-12-31   \n",
              "1  espn's top 10 all-time athletes  2004-12-31   \n",
              "2      everybody talks about it...  2004-12-31   \n",
              "3                 the company line  2004-12-31   \n",
              "4              epitaphs & tributes  2004-12-31   \n",
              "\n",
              "                                            question  value       answer  \\\n",
              "0  'for the last 8 years of his life, galileo was...    200   copernicus   \n",
              "1  'no. 2: 1912 olympian; football star at carlis...    200   jim thorpe   \n",
              "2  'the city of yuma in this state has a record a...    200      arizona   \n",
              "3  'in 1963, live on \"the art linkletter show\", t...    200  mcdonald\\'s   \n",
              "4  'signer of the dec. of indep., framer of the c...    200   john adams   \n",
              "\n",
              "       round  show_number                                    token_questions  \\\n",
              "0  Jeopardy!         4680  for last 8 years his life galileo under house ...   \n",
              "1  Jeopardy!         4680  no 2 1912 olympian football star carlisle indi...   \n",
              "2  Jeopardy!         4680  the city yuma this state a record average 4055...   \n",
              "3  Jeopardy!         4680  in 1963 live `` art linkletter show  this comp...   \n",
              "4  Jeopardy!         4680  signer the dec. indep. framer the constitution...   \n",
              "\n",
              "     value_p  \n",
              "0  low value  \n",
              "1  low value  \n",
              "2  low value  \n",
              "3  low value  \n",
              "4  low value  "
            ],
            "text/html": [
              "\n",
              "  <div id=\"df-3b99a958-52b7-4cd7-a612-6098dd5bd211\">\n",
              "    <div class=\"colab-df-container\">\n",
              "      <div>\n",
              "<style scoped>\n",
              "    .dataframe tbody tr th:only-of-type {\n",
              "        vertical-align: middle;\n",
              "    }\n",
              "\n",
              "    .dataframe tbody tr th {\n",
              "        vertical-align: top;\n",
              "    }\n",
              "\n",
              "    .dataframe thead th {\n",
              "        text-align: right;\n",
              "    }\n",
              "</style>\n",
              "<table border=\"1\" class=\"dataframe\">\n",
              "  <thead>\n",
              "    <tr style=\"text-align: right;\">\n",
              "      <th></th>\n",
              "      <th>category</th>\n",
              "      <th>air_date</th>\n",
              "      <th>question</th>\n",
              "      <th>value</th>\n",
              "      <th>answer</th>\n",
              "      <th>round</th>\n",
              "      <th>show_number</th>\n",
              "      <th>token_questions</th>\n",
              "      <th>value_p</th>\n",
              "    </tr>\n",
              "  </thead>\n",
              "  <tbody>\n",
              "    <tr>\n",
              "      <th>0</th>\n",
              "      <td>history</td>\n",
              "      <td>2004-12-31</td>\n",
              "      <td>'for the last 8 years of his life, galileo was...</td>\n",
              "      <td>200</td>\n",
              "      <td>copernicus</td>\n",
              "      <td>Jeopardy!</td>\n",
              "      <td>4680</td>\n",
              "      <td>for last 8 years his life galileo under house ...</td>\n",
              "      <td>low value</td>\n",
              "    </tr>\n",
              "    <tr>\n",
              "      <th>1</th>\n",
              "      <td>espn's top 10 all-time athletes</td>\n",
              "      <td>2004-12-31</td>\n",
              "      <td>'no. 2: 1912 olympian; football star at carlis...</td>\n",
              "      <td>200</td>\n",
              "      <td>jim thorpe</td>\n",
              "      <td>Jeopardy!</td>\n",
              "      <td>4680</td>\n",
              "      <td>no 2 1912 olympian football star carlisle indi...</td>\n",
              "      <td>low value</td>\n",
              "    </tr>\n",
              "    <tr>\n",
              "      <th>2</th>\n",
              "      <td>everybody talks about it...</td>\n",
              "      <td>2004-12-31</td>\n",
              "      <td>'the city of yuma in this state has a record a...</td>\n",
              "      <td>200</td>\n",
              "      <td>arizona</td>\n",
              "      <td>Jeopardy!</td>\n",
              "      <td>4680</td>\n",
              "      <td>the city yuma this state a record average 4055...</td>\n",
              "      <td>low value</td>\n",
              "    </tr>\n",
              "    <tr>\n",
              "      <th>3</th>\n",
              "      <td>the company line</td>\n",
              "      <td>2004-12-31</td>\n",
              "      <td>'in 1963, live on \"the art linkletter show\", t...</td>\n",
              "      <td>200</td>\n",
              "      <td>mcdonald\\'s</td>\n",
              "      <td>Jeopardy!</td>\n",
              "      <td>4680</td>\n",
              "      <td>in 1963 live `` art linkletter show  this comp...</td>\n",
              "      <td>low value</td>\n",
              "    </tr>\n",
              "    <tr>\n",
              "      <th>4</th>\n",
              "      <td>epitaphs &amp; tributes</td>\n",
              "      <td>2004-12-31</td>\n",
              "      <td>'signer of the dec. of indep., framer of the c...</td>\n",
              "      <td>200</td>\n",
              "      <td>john adams</td>\n",
              "      <td>Jeopardy!</td>\n",
              "      <td>4680</td>\n",
              "      <td>signer the dec. indep. framer the constitution...</td>\n",
              "      <td>low value</td>\n",
              "    </tr>\n",
              "  </tbody>\n",
              "</table>\n",
              "</div>\n",
              "      <button class=\"colab-df-convert\" onclick=\"convertToInteractive('df-3b99a958-52b7-4cd7-a612-6098dd5bd211')\"\n",
              "              title=\"Convert this dataframe to an interactive table.\"\n",
              "              style=\"display:none;\">\n",
              "        \n",
              "  <svg xmlns=\"http://www.w3.org/2000/svg\" height=\"24px\"viewBox=\"0 0 24 24\"\n",
              "       width=\"24px\">\n",
              "    <path d=\"M0 0h24v24H0V0z\" fill=\"none\"/>\n",
              "    <path d=\"M18.56 5.44l.94 2.06.94-2.06 2.06-.94-2.06-.94-.94-2.06-.94 2.06-2.06.94zm-11 1L8.5 8.5l.94-2.06 2.06-.94-2.06-.94L8.5 2.5l-.94 2.06-2.06.94zm10 10l.94 2.06.94-2.06 2.06-.94-2.06-.94-.94-2.06-.94 2.06-2.06.94z\"/><path d=\"M17.41 7.96l-1.37-1.37c-.4-.4-.92-.59-1.43-.59-.52 0-1.04.2-1.43.59L10.3 9.45l-7.72 7.72c-.78.78-.78 2.05 0 2.83L4 21.41c.39.39.9.59 1.41.59.51 0 1.02-.2 1.41-.59l7.78-7.78 2.81-2.81c.8-.78.8-2.07 0-2.86zM5.41 20L4 18.59l7.72-7.72 1.47 1.35L5.41 20z\"/>\n",
              "  </svg>\n",
              "      </button>\n",
              "      \n",
              "  <style>\n",
              "    .colab-df-container {\n",
              "      display:flex;\n",
              "      flex-wrap:wrap;\n",
              "      gap: 12px;\n",
              "    }\n",
              "\n",
              "    .colab-df-convert {\n",
              "      background-color: #E8F0FE;\n",
              "      border: none;\n",
              "      border-radius: 50%;\n",
              "      cursor: pointer;\n",
              "      display: none;\n",
              "      fill: #1967D2;\n",
              "      height: 32px;\n",
              "      padding: 0 0 0 0;\n",
              "      width: 32px;\n",
              "    }\n",
              "\n",
              "    .colab-df-convert:hover {\n",
              "      background-color: #E2EBFA;\n",
              "      box-shadow: 0px 1px 2px rgba(60, 64, 67, 0.3), 0px 1px 3px 1px rgba(60, 64, 67, 0.15);\n",
              "      fill: #174EA6;\n",
              "    }\n",
              "\n",
              "    [theme=dark] .colab-df-convert {\n",
              "      background-color: #3B4455;\n",
              "      fill: #D2E3FC;\n",
              "    }\n",
              "\n",
              "    [theme=dark] .colab-df-convert:hover {\n",
              "      background-color: #434B5C;\n",
              "      box-shadow: 0px 1px 3px 1px rgba(0, 0, 0, 0.15);\n",
              "      filter: drop-shadow(0px 1px 2px rgba(0, 0, 0, 0.3));\n",
              "      fill: #FFFFFF;\n",
              "    }\n",
              "  </style>\n",
              "\n",
              "      <script>\n",
              "        const buttonEl =\n",
              "          document.querySelector('#df-3b99a958-52b7-4cd7-a612-6098dd5bd211 button.colab-df-convert');\n",
              "        buttonEl.style.display =\n",
              "          google.colab.kernel.accessAllowed ? 'block' : 'none';\n",
              "\n",
              "        async function convertToInteractive(key) {\n",
              "          const element = document.querySelector('#df-3b99a958-52b7-4cd7-a612-6098dd5bd211');\n",
              "          const dataTable =\n",
              "            await google.colab.kernel.invokeFunction('convertToInteractive',\n",
              "                                                     [key], {});\n",
              "          if (!dataTable) return;\n",
              "\n",
              "          const docLinkHtml = 'Like what you see? Visit the ' +\n",
              "            '<a target=\"_blank\" href=https://colab.research.google.com/notebooks/data_table.ipynb>data table notebook</a>'\n",
              "            + ' to learn more about interactive tables.';\n",
              "          element.innerHTML = '';\n",
              "          dataTable['output_type'] = 'display_data';\n",
              "          await google.colab.output.renderOutput(dataTable, element);\n",
              "          const docLink = document.createElement('div');\n",
              "          docLink.innerHTML = docLinkHtml;\n",
              "          element.appendChild(docLink);\n",
              "        }\n",
              "      </script>\n",
              "    </div>\n",
              "  </div>\n",
              "  "
            ]
          },
          "metadata": {},
          "execution_count": 106
        }
      ]
    },
    {
      "cell_type": "markdown",
      "source": [
        "Prediction"
      ],
      "metadata": {
        "id": "kjCryvJHmei1"
      }
    },
    {
      "cell_type": "code",
      "source": [
        "# Test Train Split\n",
        "# train/test = 0.7/0.3\n",
        "X = jeopardy_c['token_questions']\n",
        "y = jeopardy_c['value_p']\n",
        "from sklearn.model_selection import train_test_split\n",
        "X_train, X_test, y_train, y_test = train_test_split(X,y,train_size = 0.7, random_state = 37)"
      ],
      "metadata": {
        "id": "BjTBPK6firWn"
      },
      "execution_count": 144,
      "outputs": []
    },
    {
      "cell_type": "code",
      "source": [
        "# Feature extraction using tfidf model\n",
        "from sklearn.feature_extraction.text import TfidfVectorizer\n",
        "from sklearn.metrics import accuracy_score\n",
        "tfidf_vectorizer = TfidfVectorizer(use_idf = True)\n",
        "X_train_tf = tfidf_vectorizer.fit_transform(X_train)\n",
        "X_test_tf = tfidf_vectorizer.transform(X_test)"
      ],
      "metadata": {
        "id": "FW5lQi6uhp5c"
      },
      "execution_count": 145,
      "outputs": []
    },
    {
      "cell_type": "code",
      "source": [
        "from sklearn.naive_bayes import MultinomialNB\n",
        "# Naive Bayes\n",
        "naive_bayes = MultinomialNB()\n",
        "# train_test spilit\n",
        "naive_bayes.fit(X_train_tf, y_train)\n",
        "predictions = naive_bayes.predict(X_test_tf)\n",
        "print('Accuracy',accuracy_score(y_test, predictions))"
      ],
      "metadata": {
        "id": "B9teoV1To_f5",
        "colab": {
          "base_uri": "https://localhost:8080/"
        },
        "outputId": "b734fe3d-dd37-4c1a-8e40-3cd865a8fc06"
      },
      "execution_count": 148,
      "outputs": [
        {
          "output_type": "stream",
          "name": "stdout",
          "text": [
            "Accuracy 0.586303895982122\n"
          ]
        }
      ]
    },
    {
      "cell_type": "markdown",
      "source": [
        "I got an accuracy score of 0.586 predicting the value of questions"
      ],
      "metadata": {
        "id": "dfTszqKi3tx2"
      }
    }
  ]
}