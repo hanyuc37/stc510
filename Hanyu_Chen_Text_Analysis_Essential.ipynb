{
  "nbformat": 4,
  "nbformat_minor": 0,
  "metadata": {
    "colab": {
      "provenance": [],
      "mount_file_id": "1Jcplf-ePpm0eMr2KlAz7nSQ2GWTv4SQe",
      "authorship_tag": "ABX9TyO5nM3QjdwASF4W/then/g6",
      "include_colab_link": true
    },
    "kernelspec": {
      "name": "python3",
      "display_name": "Python 3"
    },
    "language_info": {
      "name": "python"
    }
  },
  "cells": [
    {
      "cell_type": "markdown",
      "metadata": {
        "id": "view-in-github",
        "colab_type": "text"
      },
      "source": [
        "<a href=\"https://colab.research.google.com/github/hanyuc37/stc510/blob/main/Hanyu_Chen_Text_Analysis_Essential.ipynb\" target=\"_parent\"><img src=\"https://colab.research.google.com/assets/colab-badge.svg\" alt=\"Open In Colab\"/></a>"
      ]
    },
    {
      "cell_type": "code",
      "execution_count": 2,
      "metadata": {
        "id": "WNz9Bp-llNHE"
      },
      "outputs": [],
      "source": [
        "import pandas as pd\n",
        "import numpy as np\n",
        "from nltk import word_tokenize\n",
        "from gensim.models import Word2Vec"
      ]
    },
    {
      "cell_type": "markdown",
      "source": [],
      "metadata": {
        "id": "TPZ1OecFlsU8"
      }
    },
    {
      "cell_type": "code",
      "source": [
        "jeopardy = pd.read_csv(\"/content/drive/MyDrive/STC 510/Text Analytics/jeopardy_lower.csv\")\n",
        "jeopardy.head()"
      ],
      "metadata": {
        "id": "rAhamo7MlT3c",
        "colab": {
          "base_uri": "https://localhost:8080/",
          "height": 354
        },
        "outputId": "b6e40207-494c-4ed8-f176-4708088823d1"
      },
      "execution_count": 3,
      "outputs": [
        {
          "output_type": "execute_result",
          "data": {
            "text/plain": [
              "   Unnamed: 0                         category    air_date  \\\n",
              "0           0                          history  2004-12-31   \n",
              "1           1  espn's top 10 all-time athletes  2004-12-31   \n",
              "2           2      everybody talks about it...  2004-12-31   \n",
              "3           3                 the company line  2004-12-31   \n",
              "4           4              epitaphs & tributes  2004-12-31   \n",
              "\n",
              "                                            question value       answer  \\\n",
              "0  'for the last 8 years of his life, galileo was...  $200   copernicus   \n",
              "1  'no. 2: 1912 olympian; football star at carlis...  $200   jim thorpe   \n",
              "2  'the city of yuma in this state has a record a...  $200      arizona   \n",
              "3  'in 1963, live on \"the art linkletter show\", t...  $200  mcdonald\\'s   \n",
              "4  'signer of the dec. of indep., framer of the c...  $200   john adams   \n",
              "\n",
              "       round  show_number  \n",
              "0  Jeopardy!         4680  \n",
              "1  Jeopardy!         4680  \n",
              "2  Jeopardy!         4680  \n",
              "3  Jeopardy!         4680  \n",
              "4  Jeopardy!         4680  "
            ],
            "text/html": [
              "\n",
              "  <div id=\"df-f8349d0d-d553-4490-8e21-76e70d6d6bc2\">\n",
              "    <div class=\"colab-df-container\">\n",
              "      <div>\n",
              "<style scoped>\n",
              "    .dataframe tbody tr th:only-of-type {\n",
              "        vertical-align: middle;\n",
              "    }\n",
              "\n",
              "    .dataframe tbody tr th {\n",
              "        vertical-align: top;\n",
              "    }\n",
              "\n",
              "    .dataframe thead th {\n",
              "        text-align: right;\n",
              "    }\n",
              "</style>\n",
              "<table border=\"1\" class=\"dataframe\">\n",
              "  <thead>\n",
              "    <tr style=\"text-align: right;\">\n",
              "      <th></th>\n",
              "      <th>Unnamed: 0</th>\n",
              "      <th>category</th>\n",
              "      <th>air_date</th>\n",
              "      <th>question</th>\n",
              "      <th>value</th>\n",
              "      <th>answer</th>\n",
              "      <th>round</th>\n",
              "      <th>show_number</th>\n",
              "    </tr>\n",
              "  </thead>\n",
              "  <tbody>\n",
              "    <tr>\n",
              "      <th>0</th>\n",
              "      <td>0</td>\n",
              "      <td>history</td>\n",
              "      <td>2004-12-31</td>\n",
              "      <td>'for the last 8 years of his life, galileo was...</td>\n",
              "      <td>$200</td>\n",
              "      <td>copernicus</td>\n",
              "      <td>Jeopardy!</td>\n",
              "      <td>4680</td>\n",
              "    </tr>\n",
              "    <tr>\n",
              "      <th>1</th>\n",
              "      <td>1</td>\n",
              "      <td>espn's top 10 all-time athletes</td>\n",
              "      <td>2004-12-31</td>\n",
              "      <td>'no. 2: 1912 olympian; football star at carlis...</td>\n",
              "      <td>$200</td>\n",
              "      <td>jim thorpe</td>\n",
              "      <td>Jeopardy!</td>\n",
              "      <td>4680</td>\n",
              "    </tr>\n",
              "    <tr>\n",
              "      <th>2</th>\n",
              "      <td>2</td>\n",
              "      <td>everybody talks about it...</td>\n",
              "      <td>2004-12-31</td>\n",
              "      <td>'the city of yuma in this state has a record a...</td>\n",
              "      <td>$200</td>\n",
              "      <td>arizona</td>\n",
              "      <td>Jeopardy!</td>\n",
              "      <td>4680</td>\n",
              "    </tr>\n",
              "    <tr>\n",
              "      <th>3</th>\n",
              "      <td>3</td>\n",
              "      <td>the company line</td>\n",
              "      <td>2004-12-31</td>\n",
              "      <td>'in 1963, live on \"the art linkletter show\", t...</td>\n",
              "      <td>$200</td>\n",
              "      <td>mcdonald\\'s</td>\n",
              "      <td>Jeopardy!</td>\n",
              "      <td>4680</td>\n",
              "    </tr>\n",
              "    <tr>\n",
              "      <th>4</th>\n",
              "      <td>4</td>\n",
              "      <td>epitaphs &amp; tributes</td>\n",
              "      <td>2004-12-31</td>\n",
              "      <td>'signer of the dec. of indep., framer of the c...</td>\n",
              "      <td>$200</td>\n",
              "      <td>john adams</td>\n",
              "      <td>Jeopardy!</td>\n",
              "      <td>4680</td>\n",
              "    </tr>\n",
              "  </tbody>\n",
              "</table>\n",
              "</div>\n",
              "      <button class=\"colab-df-convert\" onclick=\"convertToInteractive('df-f8349d0d-d553-4490-8e21-76e70d6d6bc2')\"\n",
              "              title=\"Convert this dataframe to an interactive table.\"\n",
              "              style=\"display:none;\">\n",
              "        \n",
              "  <svg xmlns=\"http://www.w3.org/2000/svg\" height=\"24px\"viewBox=\"0 0 24 24\"\n",
              "       width=\"24px\">\n",
              "    <path d=\"M0 0h24v24H0V0z\" fill=\"none\"/>\n",
              "    <path d=\"M18.56 5.44l.94 2.06.94-2.06 2.06-.94-2.06-.94-.94-2.06-.94 2.06-2.06.94zm-11 1L8.5 8.5l.94-2.06 2.06-.94-2.06-.94L8.5 2.5l-.94 2.06-2.06.94zm10 10l.94 2.06.94-2.06 2.06-.94-2.06-.94-.94-2.06-.94 2.06-2.06.94z\"/><path d=\"M17.41 7.96l-1.37-1.37c-.4-.4-.92-.59-1.43-.59-.52 0-1.04.2-1.43.59L10.3 9.45l-7.72 7.72c-.78.78-.78 2.05 0 2.83L4 21.41c.39.39.9.59 1.41.59.51 0 1.02-.2 1.41-.59l7.78-7.78 2.81-2.81c.8-.78.8-2.07 0-2.86zM5.41 20L4 18.59l7.72-7.72 1.47 1.35L5.41 20z\"/>\n",
              "  </svg>\n",
              "      </button>\n",
              "      \n",
              "  <style>\n",
              "    .colab-df-container {\n",
              "      display:flex;\n",
              "      flex-wrap:wrap;\n",
              "      gap: 12px;\n",
              "    }\n",
              "\n",
              "    .colab-df-convert {\n",
              "      background-color: #E8F0FE;\n",
              "      border: none;\n",
              "      border-radius: 50%;\n",
              "      cursor: pointer;\n",
              "      display: none;\n",
              "      fill: #1967D2;\n",
              "      height: 32px;\n",
              "      padding: 0 0 0 0;\n",
              "      width: 32px;\n",
              "    }\n",
              "\n",
              "    .colab-df-convert:hover {\n",
              "      background-color: #E2EBFA;\n",
              "      box-shadow: 0px 1px 2px rgba(60, 64, 67, 0.3), 0px 1px 3px 1px rgba(60, 64, 67, 0.15);\n",
              "      fill: #174EA6;\n",
              "    }\n",
              "\n",
              "    [theme=dark] .colab-df-convert {\n",
              "      background-color: #3B4455;\n",
              "      fill: #D2E3FC;\n",
              "    }\n",
              "\n",
              "    [theme=dark] .colab-df-convert:hover {\n",
              "      background-color: #434B5C;\n",
              "      box-shadow: 0px 1px 3px 1px rgba(0, 0, 0, 0.15);\n",
              "      filter: drop-shadow(0px 1px 2px rgba(0, 0, 0, 0.3));\n",
              "      fill: #FFFFFF;\n",
              "    }\n",
              "  </style>\n",
              "\n",
              "      <script>\n",
              "        const buttonEl =\n",
              "          document.querySelector('#df-f8349d0d-d553-4490-8e21-76e70d6d6bc2 button.colab-df-convert');\n",
              "        buttonEl.style.display =\n",
              "          google.colab.kernel.accessAllowed ? 'block' : 'none';\n",
              "\n",
              "        async function convertToInteractive(key) {\n",
              "          const element = document.querySelector('#df-f8349d0d-d553-4490-8e21-76e70d6d6bc2');\n",
              "          const dataTable =\n",
              "            await google.colab.kernel.invokeFunction('convertToInteractive',\n",
              "                                                     [key], {});\n",
              "          if (!dataTable) return;\n",
              "\n",
              "          const docLinkHtml = 'Like what you see? Visit the ' +\n",
              "            '<a target=\"_blank\" href=https://colab.research.google.com/notebooks/data_table.ipynb>data table notebook</a>'\n",
              "            + ' to learn more about interactive tables.';\n",
              "          element.innerHTML = '';\n",
              "          dataTable['output_type'] = 'display_data';\n",
              "          await google.colab.output.renderOutput(dataTable, element);\n",
              "          const docLink = document.createElement('div');\n",
              "          docLink.innerHTML = docLinkHtml;\n",
              "          element.appendChild(docLink);\n",
              "        }\n",
              "      </script>\n",
              "    </div>\n",
              "  </div>\n",
              "  "
            ]
          },
          "metadata": {},
          "execution_count": 3
        }
      ]
    },
    {
      "cell_type": "code",
      "source": [
        "jeopardy.head()\n",
        "jeopardy = jeopardy.drop(columns = 'Unnamed: 0')"
      ],
      "metadata": {
        "id": "bdupOx4hl81y"
      },
      "execution_count": 4,
      "outputs": []
    },
    {
      "cell_type": "code",
      "source": [
        "import nltk\n",
        "nltk.download('punkt')\n",
        "token_questions = [word_tokenize(x) for x in jeopardy['question']]\n",
        "# Create a column with tokenized questions\n",
        "jeopardy['token_questions'] = token_questions"
      ],
      "metadata": {
        "id": "rasDhGn1l8Qg",
        "colab": {
          "base_uri": "https://localhost:8080/"
        },
        "outputId": "446f6c79-4e2b-476c-9661-a9ff7ad706d4"
      },
      "execution_count": 5,
      "outputs": [
        {
          "output_type": "stream",
          "name": "stderr",
          "text": [
            "[nltk_data] Downloading package punkt to /root/nltk_data...\n",
            "[nltk_data]   Unzipping tokenizers/punkt.zip.\n"
          ]
        }
      ]
    },
    {
      "cell_type": "code",
      "source": [
        "import string\n",
        "from nltk import download\n",
        "from nltk.corpus import stopwords\n",
        "download('stopwords')\n",
        "eng_stopwords = set(stopwords.words('english')+ list(string.punctuation)+['``','...']) #some wired puncts"
      ],
      "metadata": {
        "id": "28YlHZtimL73",
        "colab": {
          "base_uri": "https://localhost:8080/"
        },
        "outputId": "3f4bb80e-1aa6-4732-c045-2f456b72eddb"
      },
      "execution_count": 6,
      "outputs": [
        {
          "output_type": "stream",
          "name": "stderr",
          "text": [
            "[nltk_data] Downloading package stopwords to /root/nltk_data...\n",
            "[nltk_data]   Unzipping corpora/stopwords.zip.\n"
          ]
        }
      ]
    },
    {
      "cell_type": "code",
      "source": [
        "# Remove stopped words and punctuations\n",
        "for i in range(len(jeopardy['token_questions'])):\n",
        "  for j in jeopardy['token_questions'][i]:\n",
        "    if j in eng_stopwords:\n",
        "      jeopardy['token_questions'][i].remove(j)"
      ],
      "metadata": {
        "id": "Zk1tpsHpmNfW"
      },
      "execution_count": 7,
      "outputs": []
    },
    {
      "cell_type": "code",
      "source": [
        "# Stemmer\n",
        "from nltk import PorterStemmer, WordNetLemmatizer\n",
        "download('wordnet')\n",
        "stemmer = PorterStemmer()\n",
        "for i in range(len(jeopardy['token_questions'])):\n",
        "  for j in jeopardy['token_questions'][i]:\n",
        "    j = stemmer.stem(j)"
      ],
      "metadata": {
        "id": "PeWgU4UjmOCU",
        "colab": {
          "base_uri": "https://localhost:8080/"
        },
        "outputId": "01a4c127-96cd-4cba-cc7d-078f87861eba"
      },
      "execution_count": 8,
      "outputs": [
        {
          "output_type": "stream",
          "name": "stderr",
          "text": [
            "[nltk_data] Downloading package wordnet to /root/nltk_data...\n"
          ]
        }
      ]
    },
    {
      "cell_type": "code",
      "source": [
        "jeopardy_c = jeopardy.copy()"
      ],
      "metadata": {
        "id": "myC6_XISmZ1C"
      },
      "execution_count": 9,
      "outputs": []
    },
    {
      "cell_type": "code",
      "source": [
        "# Delete the '$' from values\n",
        "jeopardy_c['value'].unique()\n",
        "jeopardy_c['value'] = jeopardy_c['value'].str.replace('$','')\n",
        "jeopardy_c['value'] = jeopardy_c['value'].str.replace(',','')"
      ],
      "metadata": {
        "id": "ae2mgfDmmPqQ",
        "colab": {
          "base_uri": "https://localhost:8080/"
        },
        "outputId": "086c2abe-df88-45dd-b465-3ff583117cd8"
      },
      "execution_count": 10,
      "outputs": [
        {
          "output_type": "stream",
          "name": "stderr",
          "text": [
            "<ipython-input-10-703a47bf69de>:3: FutureWarning: The default value of regex will change from True to False in a future version. In addition, single character regular expressions will *not* be treated as literal strings when regex=True.\n",
            "  jeopardy_c['value'] = jeopardy_c['value'].str.replace('$','')\n"
          ]
        }
      ]
    },
    {
      "cell_type": "code",
      "source": [
        "# Convert value to integer\n",
        "jeopardy_c['value'] = jeopardy_c['value'].astype(int)\n",
        "# Check the distribution of values\n",
        "import seaborn as sns\n",
        "sns.boxplot(y = jeopardy_c['value']) \n",
        "# A lot of outliers, use median as the threshold of \"high-value\" and \"low-value\"\n",
        "print(jeopardy_c['value'].median()) # 600\n",
        "value_p = []\n",
        "for value in jeopardy_c['value']:\n",
        "  if value <= 600:\n",
        "    value_p.append(\"low value\")\n",
        "  else:\n",
        "    value_p.append(\"high value\")\n",
        "jeopardy_c['value_p'] = value_p"
      ],
      "metadata": {
        "id": "pLscXGu7mUtq",
        "colab": {
          "base_uri": "https://localhost:8080/",
          "height": 269
        },
        "outputId": "fe31e2b7-c636-40d4-81f5-08a6574e0aed"
      },
      "execution_count": 11,
      "outputs": [
        {
          "output_type": "stream",
          "name": "stdout",
          "text": [
            "600.0\n"
          ]
        },
        {
          "output_type": "display_data",
          "data": {
            "text/plain": [
              "<Figure size 432x288 with 1 Axes>"
            ],
            "image/png": "[encoded data removed]"
          },
          "metadata": {
            "needs_background": "light"
          }
        }
      ]
    },
    {
      "cell_type": "code",
      "source": [
        "# unlist `token_question` column\n",
        "for i in range(len(jeopardy_c['token_questions'])):\n",
        "  jeopardy_c['token_questions'][i] = ((((str(jeopardy_c['token_questions'][i]).replace(',','')).replace ('[','')).replace(']','')).replace(\"'\",'')).replace('\"','')"
      ],
      "metadata": {
        "id": "Ddc99yismlLU",
        "colab": {
          "base_uri": "https://localhost:8080/"
        },
        "outputId": "1e2c493c-14cf-488e-8cc6-0209e161b0f4"
      },
      "execution_count": 12,
      "outputs": [
        {
          "output_type": "stream",
          "name": "stderr",
          "text": [
            "<ipython-input-12-8ae660377123>:3: SettingWithCopyWarning: \n",
            "A value is trying to be set on a copy of a slice from a DataFrame\n",
            "\n",
            "See the caveats in the documentation: https://pandas.pydata.org/pandas-docs/stable/user_guide/indexing.html#returning-a-view-versus-a-copy\n",
            "  jeopardy_c['token_questions'][i] = ((((str(jeopardy_c['token_questions'][i]).replace(',','')).replace ('[','')).replace(']','')).replace(\"'\",'')).replace('\"','')\n"
          ]
        }
      ]
    },
    {
      "cell_type": "code",
      "source": [
        "jeopardy_c.to_csv(\"jepardy_new.csv\")"
      ],
      "metadata": {
        "id": "BWVimPy0Qesq"
      },
      "execution_count": 13,
      "outputs": []
    },
    {
      "cell_type": "code",
      "source": [
        "jeopardy_c = jeopardy_c[[\"token_questions\",\"value_p\"]]"
      ],
      "metadata": {
        "id": "cCPYHZg8x9_3"
      },
      "execution_count": 14,
      "outputs": []
    },
    {
      "cell_type": "code",
      "source": [
        "# Train/Test Split (70%/30%)\n",
        "from sklearn.model_selection import train_test_split\n",
        "from sklearn.ensemble import AdaBoostClassifier\n",
        "\n",
        "X_train, X_test, y_train, y_test = train_test_split(jeopardy_c['token_questions'],\n",
        "                                                   jeopardy_c['value_p'],\n",
        "                                                   test_size = 0.3,\n",
        "                                                   random_state = 37)\n",
        "X_train.shape, y_train.shape, X_test.shape, y_test.shape"
      ],
      "metadata": {
        "id": "sRHKDArj5tjn",
        "colab": {
          "base_uri": "https://localhost:8080/"
        },
        "outputId": "055ac6fd-2db1-47b7-8586-9c59d1f6435e"
      },
      "execution_count": 97,
      "outputs": [
        {
          "output_type": "execute_result",
          "data": {
            "text/plain": [
              "((149307,), (149307,), (63989,), (63989,))"
            ]
          },
          "metadata": {},
          "execution_count": 97
        }
      ]
    },
    {
      "cell_type": "code",
      "source": [
        "# Vectoization\n",
        "from sklearn.feature_extraction.text import CountVectorizer\n",
        "vectorizer = CountVectorizer()\n",
        "vectorizer.fit(X_train)\n",
        "X_train = vectorizer.transform(X_train)\n",
        "X_test  = vectorizer.transform(X_test)\n",
        "X_train"
      ],
      "metadata": {
        "id": "dlfegNwAThX_",
        "colab": {
          "base_uri": "https://localhost:8080/"
        },
        "outputId": "ffe08d3f-11ef-4169-f631-7e208463a227"
      },
      "execution_count": 98,
      "outputs": [
        {
          "output_type": "execute_result",
          "data": {
            "text/plain": [
              "<149307x78255 sparse matrix of type '<class 'numpy.int64'>'\n",
              "\twith 1614198 stored elements in Compressed Sparse Row format>"
            ]
          },
          "metadata": {},
          "execution_count": 98
        }
      ]
    },
    {
      "cell_type": "code",
      "source": [
        "#Logistic Regression\n",
        "from sklearn.linear_model import LogisticRegression\n",
        "classifier = LogisticRegression() \n",
        "classifier.fit(X_train, y_train)\n",
        "score = classifier.score(X_test, y_test)\n",
        "print(\"Accuracy:\", score)\n",
        "# With an accuracy of 0.579"
      ],
      "metadata": {
        "colab": {
          "base_uri": "https://localhost:8080/"
        },
        "id": "OtdU3E5kEGfA",
        "outputId": "cd8250e7-c15a-45cd-ea50-614c3ba57bd3"
      },
      "execution_count": 100,
      "outputs": [
        {
          "output_type": "stream",
          "name": "stderr",
          "text": [
            "/usr/local/lib/python3.8/dist-packages/sklearn/linear_model/_logistic.py:814: ConvergenceWarning: lbfgs failed to converge (status=1):\n",
            "STOP: TOTAL NO. of ITERATIONS REACHED LIMIT.\n",
            "\n",
            "Increase the number of iterations (max_iter) or scale the data as shown in:\n",
            "    https://scikit-learn.org/stable/modules/preprocessing.html\n",
            "Please also refer to the documentation for alternative solver options:\n",
            "    https://scikit-learn.org/stable/modules/linear_model.html#logistic-regression\n",
            "  n_iter_i = _check_optimize_result(\n"
          ]
        },
        {
          "output_type": "stream",
          "name": "stdout",
          "text": [
            "Accuracy: 0.5786619575239494\n"
          ]
        }
      ]
    },
    {
      "cell_type": "code",
      "source": [
        "# SVM model\n",
        "from sklearn import svm\n",
        "classifier = svm.SVC()\n",
        "classifier.fit(X_train, y_train)\n",
        "score = classifier.score(X_test, y_test)\n",
        "print(\"Accuracy:\", score)\n",
        "# accuracy of about 0.599"
      ],
      "metadata": {
        "id": "dkrd3b7hT85D",
        "colab": {
          "base_uri": "https://localhost:8080/"
        },
        "outputId": "ca8c5a36-f84c-44cb-ea3c-635d294fd443"
      },
      "execution_count": 17,
      "outputs": [
        {
          "output_type": "stream",
          "name": "stdout",
          "text": [
            "Accuracy: 0.598806044788948\n"
          ]
        }
      ]
    }
  ]
}