{
 "cells": [
  {
   "cell_type": "code",
   "execution_count": 1,
   "metadata": {},
   "outputs": [
    {
     "name": "stdout",
     "output_type": "stream",
     "text": [
      "Requirement already satisfied: selenium in /opt/anaconda3/lib/python3.7/site-packages (4.8.0)\n",
      "Requirement already satisfied: certifi>=2021.10.8 in /opt/anaconda3/lib/python3.7/site-packages (from selenium) (2022.12.7)\n",
      "Requirement already satisfied: trio~=0.17 in /opt/anaconda3/lib/python3.7/site-packages (from selenium) (0.22.0)\n",
      "Requirement already satisfied: urllib3[socks]~=1.26 in /opt/anaconda3/lib/python3.7/site-packages (from selenium) (1.26.14)\n",
      "Requirement already satisfied: trio-websocket~=0.9 in /opt/anaconda3/lib/python3.7/site-packages (from selenium) (0.9.2)\n",
      "Requirement already satisfied: outcome in /opt/anaconda3/lib/python3.7/site-packages (from trio~=0.17->selenium) (1.2.0)\n",
      "Requirement already satisfied: exceptiongroup>=1.0.0rc9; python_version < \"3.11\" in /opt/anaconda3/lib/python3.7/site-packages (from trio~=0.17->selenium) (1.1.0)\n",
      "Requirement already satisfied: attrs>=19.2.0 in /opt/anaconda3/lib/python3.7/site-packages (from trio~=0.17->selenium) (19.3.0)\n",
      "Requirement already satisfied: async-generator>=1.9 in /opt/anaconda3/lib/python3.7/site-packages (from trio~=0.17->selenium) (1.10)\n",
      "Requirement already satisfied: sortedcontainers in /opt/anaconda3/lib/python3.7/site-packages (from trio~=0.17->selenium) (2.1.0)\n",
      "Requirement already satisfied: idna in /opt/anaconda3/lib/python3.7/site-packages (from trio~=0.17->selenium) (2.8)\n",
      "Requirement already satisfied: sniffio in /opt/anaconda3/lib/python3.7/site-packages (from trio~=0.17->selenium) (1.3.0)\n",
      "Requirement already satisfied: PySocks!=1.5.7,<2.0,>=1.5.6; extra == \"socks\" in /opt/anaconda3/lib/python3.7/site-packages (from urllib3[socks]~=1.26->selenium) (1.7.1)\n",
      "Requirement already satisfied: wsproto>=0.14 in /opt/anaconda3/lib/python3.7/site-packages (from trio-websocket~=0.9->selenium) (1.2.0)\n",
      "Requirement already satisfied: h11<1,>=0.9.0 in /opt/anaconda3/lib/python3.7/site-packages (from wsproto>=0.14->trio-websocket~=0.9->selenium) (0.14.0)\n",
      "Requirement already satisfied: typing-extensions; python_version < \"3.8\" in /opt/anaconda3/lib/python3.7/site-packages (from h11<1,>=0.9.0->wsproto>=0.14->trio-websocket~=0.9->selenium) (4.5.0)\n",
      "Note: you may need to restart the kernel to use updated packages.\n"
     ]
    }
   ],
   "source": [
    "pip install selenium"
   ]
  },
  {
   "cell_type": "code",
   "execution_count": 2,
   "metadata": {},
   "outputs": [
    {
     "name": "stderr",
     "output_type": "stream",
     "text": [
      "/opt/anaconda3/lib/python3.7/site-packages/requests/__init__.py:91: RequestsDependencyWarning: urllib3 (1.26.14) or chardet (3.0.4) doesn't match a supported version!\n",
      "  RequestsDependencyWarning)\n"
     ]
    }
   ],
   "source": [
    "from bs4 import BeautifulSoup\n",
    "import requests\n",
    "from time import sleep\n",
    "import re\n",
    "from selenium import webdriver\n",
    "from selenium.webdriver.chrome.options import Options"
   ]
  },
  {
   "cell_type": "markdown",
   "metadata": {},
   "source": [
    "Task\n",
    "#looking for mentions of the words above, and generates a csv that lists the keyword and the URL at which it was found. \n",
    "#This project is a bit more complicated than what we've done in the tutorials, \n",
    "#but only a little bit. It will require you to extract the links (found in \"a\" tags) and sort through them to make sure you are only getting the ones in the gallery. \n",
    "#You may need to look through the BeautifulSoup documentation to figure out how to get at the hrefs from those A tags. Note that Craigslist seems to be blocking Google IPs, \n",
    "#so you'll need to do this one from your own machine. Once you have a list of URLs, you'll need to crawl them one-by-one, and search the text of the ads for each of your keywords (see above).\n",
    "#Note that while Craigslist has an API, you need to be scraping directly here to show your scraping skills. Remember to build in a sizeable \"sleep\" between each request. "
   ]
  },
  {
   "cell_type": "markdown",
   "metadata": {},
   "source": [
    "Step 1: Get the links for Garage Sales and Moving Sales"
   ]
  },
  {
   "cell_type": "code",
   "execution_count": 17,
   "metadata": {
    "collapsed": true
   },
   "outputs": [
    {
     "name": "stderr",
     "output_type": "stream",
     "text": [
      "/opt/anaconda3/lib/python3.7/site-packages/ipykernel_launcher.py:1: DeprecationWarning: executable_path has been deprecated, please pass in a Service object\n",
      "  \"\"\"Entry point for launching an IPython kernel.\n"
     ]
    }
   ],
   "source": [
    "# Doing it with Selenium\n",
    "driver = webdriver.Chrome(executable_path = '/Desktop/chromedriver')"
   ]
  },
  {
   "cell_type": "code",
   "execution_count": 18,
   "metadata": {},
   "outputs": [],
   "source": [
    "# Get the page with filters in key_words required and filter results daily\n",
    "driver.get('https://phoenix.craigslist.org/search/gms?postedToday=1&query=*mattress*%20%7C%20*cabinet*%20%7C%20*wrench*#search=1~gallery~0~0')"
   ]
  },
  {
   "cell_type": "code",
   "execution_count": 22,
   "metadata": {},
   "outputs": [
    {
     "name": "stdout",
     "output_type": "stream",
     "text": [
      "<html class=\"cl-not-small-device cl-landscape\"><head>\n",
      "    \n",
      "\t<meta charset=\"UTF-8\">\n",
      "\t<meta http-equiv=\"X-UA-Compatible\" content=\"IE=Edge\">\n",
      "\t<meta name=\"viewport\" content=\"width=device-width,initial-scale=1\">\n",
      "\t<meta property=\"og:site_name\" content=\"craigslist\">\n",
      "\t<meta name=\"twitter:card\" content=\"preview\">\n",
      "\t<meta property=\"og:title\" content=\"phoenix garage &amp; moving sales &quot;*mattress* | *cabinet* | *wrench*&quot; -...\">\n",
      "\t<meta name=\"description\" content=\"phoenix garage &amp; moving sales &quot;*mattress* | *cabinet* | *wrench*&quot; - craigslist\">\n",
      "\t<meta property=\"og:description\" content=\"phoenix garage &amp; moving sales &quot;*mattress* | *cabinet* | *wrench*&quot; - craigslist\">\n",
      "\t<meta property=\"og:url\" content=\"https://phoenix.craigslist.org/search/gms?query=*mattress*+%7C+*cabinet*+%7C+*wrench*\">\n",
      "\t<title>phoenix garage &amp; moving sales \"*mattress* | *cabinet* | *wrench*\"  - craigslist</title>\n",
      "\t<link rel=\"canonical\" href=\"https://phoenix.craigslist.org/search/gms?query=*mattress*+%7C+*cabinet*+%7C+*wrench*\">\n",
      "\n",
      "\n",
      "\n",
      "\n",
      "\n",
      "    <style type=\"text/css\">\n",
      "        body {\n",
      "            font-family: sans-serif;\n",
      "        }\n",
      "\n",
      "        #no-js {\n",
      "            position: fixed;\n",
      "            z-index: 100000;\n",
      "            top: 0;\n",
      "            bottom: 0;\n",
      "            left: 0;\n",
      "            right: 0;\n",
      "            overflow:auto;\n",
      "            margin: 0;\n",
      "            background: transparent;\n",
      "        }\n",
      "\n",
      "        #no-js h1 {\n",
      "            margin: 0;\n",
      "            padding: .5em;\n",
      "            color: #00E;\n",
      "            background-color: #cccccc;\n",
      "        }\n",
      "\n",
      "        #no-js  p {\n",
      "            margin: 1em;\n",
      "        }\n",
      "\n",
      "        .no-js header,\n",
      "        .no-js form,\n",
      "        .no-js .tsb,\n",
      "        .unsupported-browser header,\n",
      "        .unsupported-browser form,\n",
      "        .unsupported-browser .tsb {\n",
      "            display: none;\n",
      "        }\n",
      "\n",
      "        #curtain {\n",
      "            display: none;\n",
      "            position: fixed;\n",
      "            z-index: 9000;\n",
      "            top: 0;\n",
      "            bottom: 0;\n",
      "            left: 0;\n",
      "            right: 0;\n",
      "            margin: 0;\n",
      "            padding: 0;\n",
      "            border: 0;\n",
      "            background: transparent;\n",
      "        }\n",
      "\n",
      "        .show-curtain #curtain {\n",
      "            display: block;\n",
      "        }\n",
      "\n",
      "        #curtain .cover,\n",
      "        #curtain .content {\n",
      "            position: absolute;\n",
      "            display: block;\n",
      "            top: 0;\n",
      "            bottom: 0;\n",
      "            left: 0;\n",
      "            right: 0;\n",
      "            margin: 0;\n",
      "            padding: 0;\n",
      "            border: 0;\n",
      "        }\n",
      "\n",
      "        #curtain .cover {\n",
      "            z-index: 1;\n",
      "            background-color: white;\n",
      "        }\n",
      "\n",
      "        .show-curtain #curtain .cover {\n",
      "            opacity: 0.7;\n",
      "        }\n",
      "\n",
      "        .show-curtain.clear #curtain .cover {\n",
      "            opacity: 0;\n",
      "        }\n",
      "\n",
      "        .show-curtain.opaque #curtain .cover {\n",
      "            opacity: 1;\n",
      "        }\n",
      "\n",
      "        #curtain .content {\n",
      "            z-index: 2;\n",
      "            background: transparent;\n",
      "            color: #00E;\n",
      "\n",
      "            display: flex;\n",
      "            flex-direction: column;\n",
      "            justify-content: center;\n",
      "            align-items: center;\n",
      "        }\n",
      "\n",
      "        .unrecoverable #curtain .content,\n",
      "        .unsupported-browser #curtain .content {\n",
      "            display: block;\n",
      "            align-items: start;\n",
      "        }\n",
      "\n",
      "        #curtain h1 {\n",
      "            margin: 0;\n",
      "            padding: .5em;\n",
      "            background-color: #cccccc;\n",
      "        }\n",
      "\n",
      "        #curtain  p {\n",
      "            margin: 1em;\n",
      "            color: black;\n",
      "        }\n",
      "\n",
      "        .pacify #curtain .icom-:after {\n",
      "            content: \"\\eb23\";\n",
      "        }\n",
      "\n",
      "        #curtain .text {\n",
      "            display: none;\n",
      "        }\n",
      "\n",
      "        .loading #curtain .text.loading,\n",
      "        .reading #curtain .text.reading,\n",
      "        .writing #curtain .text.writing,\n",
      "        .saving #curtain .text.saving,\n",
      "        .searching #curtain .text.searching,\n",
      "        .unrecoverable #curtain .text.unrecoverable,\n",
      "        .message #curtain .text.message {\n",
      "            display: block;\n",
      "        }\n",
      "\n",
      "        .unrecoverable #curtain .text.unrecoverable {\n",
      "        }\n",
      "\n",
      "        @keyframes rotate {\n",
      "            from {\n",
      "                transform: rotate(0deg);\n",
      "            }\n",
      "            to {\n",
      "                transform: rotate(359deg);\n",
      "            }\n",
      "        }\n",
      "\n",
      "        .pacify #curtain .icom- {\n",
      "            font-size: 3em;\n",
      "            animation: rotate 2s infinite linear;\n",
      "        }\n",
      "    </style>\n",
      "\n",
      "\n",
      "    \n",
      "     \n",
      "     <script type=\"text/javascript\" src=\"https://www.craigslist.org/static/d/5588825/www/manifest.js\" crossorigin=\"anonymous\"></script><link type=\"text/css\" rel=\"stylesheet\" href=\"https://www.craigslist.org/static/www/www-2023-02-16-17-05-3f0f531f13c8d37c17be5506a8eb248069e00430.css\"><script type=\"text/javascript\" src=\"https://www.craigslist.org/static/www/search-2023-02-16-23-10-18e2209221e54051e7e4a9f720908c3614e4c34b.js\" crossorigin=\"anonymous\"></script><script src=\"https://www.craigslist.org/static/www/bbe8a523a089547e594fa2f101021699a377645c.js\"></script>\n",
      "     <script>\n",
      "         window.cl.init(\n",
      "             'https://www.craigslist.org/static/www/',\n",
      "             '',\n",
      "             'www',\n",
      "             'search',\n",
      "             {\n",
      "areaAbbrev: \"phx\",\n",
      "areaCoords: [\"33.448299\",\"-112.072998\"],\n",
      "areaId: \"18\",\n",
      "areaName: \"phoenix\",\n",
      "defaultLocale: \"en_US\",\n",
      "initialCategoryAbbr: \"gms\",\n",
      "location: {\"country\":\"US\",\"radius\":1,\"lat\":33.449,\"region\":\"AZ\",\"postal\":\"85046\",\"areaId\":18,\"city\":\"Phoenix\",\"url\":\"phoenix.craigslist.org\",\"lon\":-112.073},\n",
      "nearbyAreas: [{\"name\":\"prescott\",\"host\":\"prescott\"},{\"name\":\"tucson\",\"host\":\"tucson\"},{\"name\":\"flagstaff\",\"host\":\"flagstaff\"},{\"name\":\"show low\",\"host\":\"showlow\"},{\"name\":\"yuma\",\"host\":\"yuma\"},{\"name\":\"sierra vista\",\"host\":\"sierravista\"},{\"name\":\"mohave co\",\"host\":\"mohave\"},{\"name\":\"imperial co\",\"host\":\"imperial\"}],\n",
      "subareas: [{\"abbr\":\"cph\",\"name\":\"central/south phx\",\"id\":\"1\"},{\"abbr\":\"evl\",\"name\":\"east valley\",\"id\":\"2\"},{\"abbr\":\"nph\",\"name\":\"phx north\",\"id\":\"3\"},{\"abbr\":\"wvl\",\"name\":\"west valley\",\"id\":\"4\"}]\n",
      "},\n",
      "             0\n",
      "         );\n",
      "     </script>\n",
      "     \n",
      "\n",
      "    <script>\n",
      "        window.cl.specialCurtainMessages = {\n",
      "            unsupportedBrowser: [\n",
      "                \"We've detected you are using a browser that is missing critical features.\",\n",
      "                \"Please visit craigslist from a modern browser.\"\n",
      "            ],\n",
      "            unrecoverableError: [\n",
      "                \"There was an error loading the page.\"\n",
      "            ]\n",
      "        };\n",
      "    </script>\n",
      "<style></style></head>\n",
      "<body class=\"bd-can-hover\">\n",
      "    \n",
      "    <iframe id=\"cl-local-storage\" src=\"https://www.craigslist.org/static/www/localStorage-092e9f9e2f09450529e744902aa7cdb3a5cc868d.html\" style=\"display:none;\"></iframe>\n",
      "    \n",
      "\n",
      "    <div class=\"cl-content\"><header class=\"cl-area-search no-faves no-banished cl-wide cl-expanded\" style=\"top: 0px; left: 0px; right: 0px; position: fixed; z-index: 6000;\"><div class=\"cl-left-group\"><a tabindex=\"0\" href=\"https://phoenix.craigslist.org/\" class=\"bd-anchor text-only cl-header-logo\"><span class=\"label\">CL</span></a><div class=\"cl-breadcrumb area-selector bd-combo-box static bd-vStat-valid\" tabindex=\"0\" style=\"width: 97.9844px;\"><div class=\"bd-posit-box\"><button tabindex=\"0\" class=\"bd-button\"><span class=\"icon icom-\"></span><span class=\"label\">phoenix</span></button></div><span class=\"icon icom- arrow bd-arrow-down\"></span></div><div class=\"cl-breadcrumb subarea-selector bd-combo-box static bd-vStat-valid\" tabindex=\"0\" style=\"width: 130.398px;\"><div class=\"bd-posit-box\"><button tabindex=\"0\" class=\"bd-button\"><span class=\"icon icom-\"></span><span class=\"label\">all phoenix</span></button></div><span class=\"icon icom- arrow bd-arrow-down\"></span></div><button type=\"button\" tabindex=\"0\" class=\"bd-button text-only cl-breadcrumb location-picker-crumb link-like\"><span></span></button><div class=\"cl-breadcrumb section-selector bd-combo-box static bd-vStat-valid\" tabindex=\"0\" style=\"width: 94.2422px;\"><div class=\"bd-posit-box\"><button tabindex=\"0\" class=\"bd-button sss\"><span class=\"icon icom-\"></span><span class=\"label\">for sale</span></button></div><span class=\"icon icom- arrow bd-arrow-down\"></span></div><div class=\"cl-breadcrumb category-selector bd-combo-box static bd-vStat-valid\" tabindex=\"0\" style=\"width: 209.328px;\"><div class=\"bd-posit-box\"><button tabindex=\"0\" class=\"bd-button gms\"><span class=\"icon icom-\"></span><span class=\"label\">garage &amp; moving sales</span></button></div><span class=\"icon icom- arrow bd-arrow-down\"></span></div><div class=\"cl-static-breadcrumbs\"><div><span class=\"breadcrumb-location\">phoenix</span><span class=\"icom- breadcrumb-separator\"></span></div><span class=\"breadcrumb-category\">garage &amp; moving sales</span></div></div><div class=\"cl-middle-group\"></div><div class=\"cl-right-group\"><div class=\"cl-menu-item cl-favorites\"><button type=\"button\" tabindex=\"0\" class=\"bd-button cl-favorites-button empty\"><span class=\"icon icom-\"></span><span class=\"label\">no favorites</span></button></div><div class=\"cl-menu-item cl-banished\"><button type=\"button\" tabindex=\"0\" class=\"bd-button cl-banished-button empty\"><span class=\"icon icom-\"></span><span class=\"label\">no hidden</span></button></div><div class=\"cl-menu-item cl-goto-post\"><button type=\"button\" tabindex=\"0\" class=\"bd-button text-only cl-goto-post link-like\"><span>post</span></button></div><div class=\"cl-menu-item cl-goto-account\"><button type=\"button\" tabindex=\"0\" class=\"bd-button text-only cl-goto-account link-like\"><span>account</span></button></div><button type=\"button\" tabindex=\"0\" class=\"bd-button icon-only cl-toggle-header\" title=\"close menu\"><span class=\"icon icom-\"></span></button></div></header>\n",
      "        <main class=\"cl-search section-sss cl-search-view-mode-gallery single-page cl-show-filters cl-wide category-gms cl-search-sort-mode-relevance\" style=\"margin-top: 98px; margin-left: 200px; margin-right: 0px; position: static;\"><div></div><form class=\"cl-search-query\"><div class=\"cl-query-bar\" style=\"transition: top 0.5s ease 0s; top: 44px; left: 200px; right: 0px; z-index: 6000; position: fixed;\"><div class=\"cl-query-with-search-suggest bd-combo-box bd-vStat-valid\" tabindex=\"0\"><div class=\"bd-posit-box\"><div class=\"decoration cl-search\"><span class=\"icom-\"></span></div><input tabindex=\"0\" autocomplete=\"off\" enterkeyhint=\"search\" placeholder=\"search garage &amp; moving sales\"></div></div><button type=\"submit\" tabindex=\"0\" class=\"bd-button cl-exec-search icon-only\"><span class=\"icon icom-\"></span><span class=\"label\">refresh results with search filters</span></button><button type=\"button\" tabindex=\"0\" class=\"bd-button cl-show-search-menu icon-only\"><span class=\"icon icom-\"></span><span class=\"label\">open search menu</span></button></div><div class=\"cl-filter-buttons wide overflow-none\" style=\"transition: top 0.5s ease 0s;\"><div><div class=\"buttons\" id=\"clComponentFilterButtons\"><button type=\"button\" tabindex=\"0\" class=\"bd-button is-set\"><span class=\"icon icom-\"></span><span class=\"label\">✓ posted today</span></button><button type=\"button\" tabindex=\"0\" class=\"bd-button\"><span class=\"icon icom-\"></span><span class=\"label\">+</span></button></div><div class=\"icom- left-arrow\"></div><div class=\"icom- right-arrow\"></div></div></div><div class=\"cl-search-filters-panel\" style=\"left: 0px; top: 44px; bottom: 0px; z-index: 6000; position: fixed;\"><div class=\"cl-title-bar\"><div class=\"back-and-title-links\"><div class=\"back-to-category\"><a></a></div><h1>garage &amp; moving sales</h1></div><button type=\"button\" tabindex=\"0\" class=\"bd-button cl-toggle icon-only\"><span class=\"icon icom-\"></span><span class=\"label\"></span></button></div><div class=\"cl-jsonform-filters-panel\"><div class=\"cl-jsonform-filter cl-jsonform-date-picker jsonform-name-sale_date\"><table class=\"cl-calendar\"><tbody><tr class=\"day-header\"><td>S</td><td>M</td><td>T</td><td>W</td><td>T</td><td>F</td><td>S</td></tr><tr class=\"week\"><td data-date=\"2023-02-12\" class=\"disabled\">12</td><td data-date=\"2023-02-13\" class=\"disabled\">13</td><td data-date=\"2023-02-14\" class=\"disabled\">14</td><td data-date=\"2023-02-15\" class=\"disabled\">15</td><td data-date=\"2023-02-16\" class=\"disabled\">16</td><td data-date=\"2023-02-17\" class=\"today\">17</td><td data-date=\"2023-02-18\">18</td></tr><tr class=\"week\"><td data-date=\"2023-02-19\">19</td><td data-date=\"2023-02-20\">20</td><td data-date=\"2023-02-21\">21</td><td data-date=\"2023-02-22\">22</td><td data-date=\"2023-02-23\">23</td><td data-date=\"2023-02-24\">24</td><td data-date=\"2023-02-25\">25</td></tr><tr class=\"week\"><td data-date=\"2023-02-26\">26</td><td data-date=\"2023-02-27\">27</td><td data-date=\"2023-02-28\">28</td><td data-date=\"2023-03-01\">1</td><td data-date=\"2023-03-02\">2</td><td data-date=\"2023-03-03\">3</td><td data-date=\"2023-03-04\">4</td></tr><tr class=\"week\"><td data-date=\"2023-03-05\">5</td><td data-date=\"2023-03-06\">6</td><td data-date=\"2023-03-07\">7</td><td data-date=\"2023-03-08\">8</td><td data-date=\"2023-03-09\">9</td><td data-date=\"2023-03-10\">10</td><td data-date=\"2023-03-11\">11</td></tr><tr class=\"week\"><td data-date=\"2023-03-12\">12</td><td data-date=\"2023-03-13\">13</td><td data-date=\"2023-03-14\">14</td><td data-date=\"2023-03-15\">15</td><td data-date=\"2023-03-16\">16</td><td data-date=\"2023-03-17\">17</td><td data-date=\"2023-03-18\">18</td></tr></tbody></table><input type=\"hidden\" name=\"sale_date\" value=\"\"></div><div class=\"cl-jsonform-filter cl-jsonform-group jsonform-name-srchType-hasPic-postedToday-bundleDuplicates\"><label class=\"cl-jsonform-filter cl-jsonform-bool jsonform-name-srchType\"><input type=\"checkbox\" name=\"srchType\" value=\"T\">search titles only</label><label class=\"cl-jsonform-filter cl-jsonform-bool jsonform-name-hasPic\"><input type=\"checkbox\" name=\"hasPic\" value=\"1\">has image</label><label class=\"cl-jsonform-filter cl-jsonform-bool jsonform-name-postedToday\"><input type=\"checkbox\" name=\"postedToday\" value=\"1\">posted today</label><label class=\"cl-jsonform-filter cl-jsonform-bool jsonform-name-bundleDuplicates\"><input type=\"checkbox\" name=\"bundleDuplicates\" value=\"1\">hide duplicates</label></div><div class=\"cl-jsonform-filter cl-jsonform-location jsonform-name-search_distance-postal\"><div class=\"filter-label\">miles from location</div><div class=\"widget-line\"><input class=\"small\" type=\"tel\" placeholder=\"miles\"><input class=\"small\" type=\"tel\" placeholder=\"from zip\" name=\"postal\"><button type=\"button\" tabindex=\"0\" class=\"bd-button icon-only sprite-target link-like\"><span class=\"icon icom-\"></span></button></div><button type=\"button\" tabindex=\"0\" class=\"bd-button text-only use-map link-like\"><span>use map...</span></button><input type=\"hidden\" name=\"search_distance\" value=\"\"></div><input type=\"hidden\" name=\"vicinity\" value=\"\" class=\"jsonform-name-vicinity\"><div class=\"cl-jsonform-filter cl-jsonform-multi-select jsonform-name-language collapsed no-items-selected show-all\"><button type=\"button\" tabindex=\"0\" class=\"bd-button title link-like\"><span class=\"icon icom-\"></span><span class=\"label\">language of posting</span></button><ul><li class=\"checkbox\"><input class=\"multi-checkbox\" id=\"_1\" type=\"checkbox\" name=\"language\" value=\"1\"><label for=\"_1\">afrikaans</label></li><li class=\"checkbox\"><input class=\"multi-checkbox\" id=\"_2\" type=\"checkbox\" name=\"language\" value=\"2\"><label for=\"_2\">català</label></li><li class=\"checkbox\"><input class=\"multi-checkbox\" id=\"_3\" type=\"checkbox\" name=\"language\" value=\"3\"><label for=\"_3\">dansk</label></li><li class=\"checkbox\"><input class=\"multi-checkbox\" id=\"_4\" type=\"checkbox\" name=\"language\" value=\"4\"><label for=\"_4\">deutsch</label></li><li class=\"checkbox\"><input class=\"multi-checkbox\" id=\"_5\" type=\"checkbox\" name=\"language\" value=\"5\"><label for=\"_5\">english</label></li><li class=\"checkbox\"><input class=\"multi-checkbox\" id=\"_6\" type=\"checkbox\" name=\"language\" value=\"6\"><label for=\"_6\">español</label></li><li class=\"checkbox\"><input class=\"multi-checkbox\" id=\"_7\" type=\"checkbox\" name=\"language\" value=\"7\"><label for=\"_7\">suomi</label></li><li class=\"checkbox\"><input class=\"multi-checkbox\" id=\"_8\" type=\"checkbox\" name=\"language\" value=\"8\"><label for=\"_8\">français</label></li><li class=\"checkbox\"><input class=\"multi-checkbox\" id=\"_9\" type=\"checkbox\" name=\"language\" value=\"9\"><label for=\"_9\">italiano</label></li><li class=\"checkbox\"><input class=\"multi-checkbox\" id=\"_10\" type=\"checkbox\" name=\"language\" value=\"10\"><label for=\"_10\">nederlands</label></li><li class=\"checkbox\"><input class=\"multi-checkbox\" id=\"_11\" type=\"checkbox\" name=\"language\" value=\"11\"><label for=\"_11\">norsk</label></li><li class=\"checkbox\"><input class=\"multi-checkbox\" id=\"_12\" type=\"checkbox\" name=\"language\" value=\"12\"><label for=\"_12\">português</label></li><li class=\"checkbox\"><input class=\"multi-checkbox\" id=\"_13\" type=\"checkbox\" name=\"language\" value=\"13\"><label for=\"_13\">svenska</label></li><li class=\"checkbox\"><input class=\"multi-checkbox\" id=\"_14\" type=\"checkbox\" name=\"language\" value=\"14\"><label for=\"_14\">filipino</label></li><li class=\"checkbox\"><input class=\"multi-checkbox\" id=\"_15\" type=\"checkbox\" name=\"language\" value=\"15\"><label for=\"_15\">türkçe</label></li><li class=\"checkbox\"><input class=\"multi-checkbox\" id=\"_16\" type=\"checkbox\" name=\"language\" value=\"16\"><label for=\"_16\">中文</label></li><li class=\"checkbox\"><input class=\"multi-checkbox\" id=\"_17\" type=\"checkbox\" name=\"language\" value=\"17\"><label for=\"_17\">العربية</label></li><li class=\"checkbox\"><input class=\"multi-checkbox\" id=\"_18\" type=\"checkbox\" name=\"language\" value=\"18\"><label for=\"_18\">日本語</label></li><li class=\"checkbox\"><input class=\"multi-checkbox\" id=\"_19\" type=\"checkbox\" name=\"language\" value=\"19\"><label for=\"_19\">한국말</label></li><li class=\"checkbox\"><input class=\"multi-checkbox\" id=\"_20\" type=\"checkbox\" name=\"language\" value=\"20\"><label for=\"_20\">русский</label></li><li class=\"checkbox\"><input class=\"multi-checkbox\" id=\"_21\" type=\"checkbox\" name=\"language\" value=\"21\"><label for=\"_21\">tiếng việt</label></li><div class=\"select-deselect-all-button-group\"><button type=\"button\" tabindex=\"0\" class=\"bd-button text-only select-all link-like\"><span>select all</span></button><button type=\"button\" tabindex=\"0\" class=\"bd-button text-only deselect-all link-like bd-disabled\"><span>deselect all</span></button></div></ul></div></div><div class=\"spacer\"></div><div class=\"cl-command-buttons\"><button type=\"button\" tabindex=\"0\" class=\"bd-button cl-exec-cancel label-only\"><span class=\"icon icom-\"></span><span class=\"label\">cancel</span></button><button type=\"button\" tabindex=\"0\" class=\"bd-button cl-exec-resetSearch label-only\"><span class=\"icon icom-\"></span><span class=\"label\">reset</span></button><button type=\"button\" tabindex=\"0\" class=\"bd-button cl-exec-search label-only\"><span class=\"icon icom-\"></span><span class=\"label\">apply</span></button></div><div class=\"cl-psa\"><a tabindex=\"0\" href=\"https://www.craigslist.org/about/FHA\" class=\"bd-anchor text-only aboutFha\"><span class=\"label\">fair housing</span></a><a tabindex=\"0\" href=\"https://www.craigslist.org/about/safety\" class=\"bd-anchor text-only safety\"><span class=\"label\">safety tips</span></a><a tabindex=\"0\" href=\"https://www.craigslist.org/about/prohibited\" class=\"bd-anchor text-only aboutProhibited\"><span class=\"label\">prohibited items</span></a><a tabindex=\"0\" href=\"https://www.craigslist.org/about/recalled_items\" class=\"bd-anchor text-only aboutRecalledItems\"><span class=\"label\">product recalls</span></a><a tabindex=\"0\" href=\"https://www.craigslist.org/about/scams\" class=\"bd-anchor text-only scams\"><span class=\"label\">avoiding scams</span></a></div><div hidden=\"\" class=\"related-searches\"><div class=\"link-like\"><span>▸</span><span hidden=\"\">▾</span><span class=\"label\">related searches</span></div><ul hidden=\"\"></ul></div></div></form><div class=\"cl-search-results\"><div class=\"no-day-pages cl-search-toolbars top cl-multi-column\" id=\"search-toolbars-1\"><div class=\"cl-search-tools-left tool-container\"><div class=\"cl-search-view-mode bd-combo-box static bd-vStat-valid\" tabindex=\"0\" style=\"width: 112.242px;\"><div class=\"bd-posit-box\"><button tabindex=\"0\" class=\"bd-button cl-search-view-mode-gallery\"><span class=\"icon icom-\"></span><span class=\"label\">gallery</span></button></div><span class=\"icon icom- arrow bd-arrow-down\"></span></div><div class=\"cl-search-sort-mode bd-combo-box static bd-vStat-valid\" tabindex=\"0\" style=\"width: 120.516px;\"><div class=\"bd-posit-box\"><button tabindex=\"0\" class=\"bd-button cl-search-sort-mode-relevance\"><span class=\"icon icom-\"></span><span class=\"label\">relevance</span></button></div><span class=\"icon icom- arrow bd-arrow-down\"></span></div><div class=\"spacer\"></div><button type=\"button\" tabindex=\"0\" class=\"bd-button cl-save-search\" title=\"save this search\"><span class=\"icon icom-\"></span><span class=\"label\">save</span></button></div><div class=\"cl-search-paginator\"><button type=\"button\" tabindex=\"0\" class=\"bd-button cl-first-page icon-only bd-disabled\"><span class=\"icon icom-\"></span><span class=\"label\">first page</span></button><button type=\"button\" tabindex=\"0\" class=\"bd-button cl-prev-page icon-only bd-disabled\"><span class=\"icon icom-\"></span><span class=\"label\">previous page</span></button><span class=\"cl-page-number\">1 - 6 of 6</span><button type=\"button\" tabindex=\"0\" class=\"bd-button cl-next-page icon-only bd-disabled\"><span class=\"icon icom-\"></span><span class=\"label\">next page</span></button><button type=\"button\" tabindex=\"0\" class=\"bd-button cl-last-page icon-only bd-disabled\"><span class=\"icon icom-\"></span><span class=\"label\">last page</span></button></div><div class=\"cl-search-day-paginator\"><button type=\"button\" tabindex=\"0\" class=\"bd-button cl-prev-day-page icon-only\"><span class=\"icon icom-\"></span><span class=\"label\">previous day</span></button><span class=\"cl-page-date\"></span><button type=\"button\" tabindex=\"0\" class=\"bd-button cl-next-day-page icon-only\"><span class=\"icon icom-\"></span><span class=\"label\">next day</span></button></div><div class=\"cl-search-map-info\"><div><span class=\"\">No mappable items found</span><span class=\"zoom-out\"></span></div></div><div class=\"cl-search-tools-right tool-container\"><button type=\"button\" tabindex=\"0\" class=\"bd-button cl-save-search\" title=\"save this search\"><span class=\"icon icom-\"></span><span class=\"label\">save</span></button></div></div><div class=\"cl-hub-links\"></div><div class=\"bd-hidden cl-search-map no-mappable-results\" id=\"search-map-1\" style=\"display: none;\"><div class=\"top-right-button-group\"><button type=\"button\" tabindex=\"0\" class=\"bd-button full-screen-button label-only\"><span class=\"icon icom-\"></span><span class=\"label\">full screen</span></button><button type=\"button\" tabindex=\"0\" class=\"bd-button choose-location-button label-only bd-hidden\" style=\"display: none;\"><span class=\"icon icom-\"></span><span class=\"label\">search this region</span></button></div><div class=\"map\"></div></div><div class=\"results cl-results-page cl-search-view-mode-gallery\" id=\"search-results-page-1\"><ol><div class=\"result-count\">2 postings</div><li class=\"cl-search-result cl-search-view-mode-gallery\" title=\"Durable Medical Equipment\"><div class=\"gallery-card\"><div class=\"cl-gallery\"><a class=\"main\" href=\"https://phoenix.craigslist.org/nph/gms/d/phoenix-durable-medical-equipment/7590192090.html\"><div class=\"swipe\" style=\"visibility: visible;\"><div class=\"swipe-wrap\" style=\"width: 2528px;\"><div data-index=\"0\" style=\"width: 316px; left: 0px; transition-duration: 0ms; transform: translateX(0px);\"><span class=\"loading icom-\"></span><img alt=\"\" src=\"https://images.craigslist.org/00s0s_liQ70x6FOdP_0x20oM_300x300.jpg\"></div><div data-index=\"1\" style=\"width: 316px; left: -316px; transition-duration: 0ms; transform: translateX(316px);\"></div><div data-index=\"2\" style=\"width: 316px; left: -632px; transition-duration: 0ms; transform: translateX(316px);\"></div><div data-index=\"3\" style=\"width: 316px; left: -948px; transition-duration: 0ms; transform: translateX(-316px);\"></div></div></div><div class=\"slider-back-arrow icom-\"></div><div class=\"slider-forward-arrow icom-\"></div></a><div class=\"dots\"><span class=\"dot selected\">•</span><span class=\"dot\">•</span><span class=\"dot\">•</span><span class=\"dot\">•</span></div></div><a class=\"titlestring\" href=\"https://phoenix.craigslist.org/nph/gms/d/phoenix-durable-medical-equipment/7590192090.html\">Durable Medical Equipment</a><div class=\"meta\">2/18<span class=\"separator\">·</span>32nd Street &amp; Shea</div><button type=\"button\" tabindex=\"0\" class=\"bd-button cl-favorite-button icon-only\" title=\"add to favorites list\"><span class=\"icon icom-\"></span><span class=\"label\"></span></button><button type=\"button\" tabindex=\"0\" class=\"bd-button cl-banish-button icon-only\" title=\"hide posting\"><span class=\"icon icom-\"></span><span class=\"label\">hide</span></button></div></li><li class=\"cl-search-result cl-search-view-mode-gallery\" title=\"FRIDAY/SAT. 2-17/2-18 LARGE ESTATE SALE\"><div class=\"gallery-card\"><div class=\"cl-gallery\"><a class=\"main\" href=\"https://phoenix.craigslist.org/nph/gms/d/phoenix-friday-sat-large-estate-sale/7590071646.html\"><div class=\"swipe\" style=\"visibility: visible;\"><div class=\"swipe-wrap\" style=\"width: 7584px;\"><div data-index=\"0\" style=\"width: 316px; left: 0px; transition-duration: 0ms; transform: translateX(0px);\"><span class=\"loading icom-\"></span><img alt=\"\" src=\"https://images.craigslist.org/00X0X_khLPIhc5sck_0cU0hd_300x300.jpg\"></div><div data-index=\"1\" style=\"width: 316px; left: -316px; transition-duration: 0ms; transform: translateX(316px);\"></div><div data-index=\"2\" style=\"width: 316px; left: -632px; transition-duration: 0ms; transform: translateX(316px);\"></div><div data-index=\"3\" style=\"width: 316px; left: -948px; transition-duration: 0ms; transform: translateX(316px);\"></div><div data-index=\"4\" style=\"width: 316px; left: -1264px; transition-duration: 0ms; transform: translateX(316px);\"></div><div data-index=\"5\" style=\"width: 316px; left: -1580px; transition-duration: 0ms; transform: translateX(316px);\"></div><div data-index=\"6\" style=\"width: 316px; left: -1896px; transition-duration: 0ms; transform: translateX(316px);\"></div><div data-index=\"7\" style=\"width: 316px; left: -2212px; transition-duration: 0ms; transform: translateX(316px);\"></div><div data-index=\"8\" style=\"width: 316px; left: -2528px; transition-duration: 0ms; transform: translateX(316px);\"></div><div data-index=\"9\" style=\"width: 316px; left: -2844px; transition-duration: 0ms; transform: translateX(316px);\"></div><div data-index=\"10\" style=\"width: 316px; left: -3160px; transition-duration: 0ms; transform: translateX(316px);\"></div><div data-index=\"11\" style=\"width: 316px; left: -3476px; transition-duration: 0ms; transform: translateX(-316px);\"></div></div></div><div class=\"slider-back-arrow icom-\"></div><div class=\"slider-forward-arrow icom-\"></div></a><div class=\"dots\"><span class=\"dot selected\">•</span><span class=\"dot\">•</span><span class=\"dot\">•</span><span class=\"dot\">•</span><span class=\"dot\">•</span><span class=\"dot\">•</span><span class=\"dot\">•</span><span class=\"dot\">•</span><span class=\"dot\">•</span><span class=\"dot\">•</span><span class=\"dot\">•</span><span class=\"dot\">•</span></div></div><a class=\"titlestring\" href=\"https://phoenix.craigslist.org/nph/gms/d/phoenix-friday-sat-large-estate-sale/7590071646.html\">FRIDAY/SAT. 2-17/2-18 LARGE ESTATE SALE</a><div class=\"meta\">2/17, 2/18<span class=\"separator\">·</span>39th AVENUE AND THUNDERBIRD</div><button type=\"button\" tabindex=\"0\" class=\"bd-button cl-favorite-button icon-only\" title=\"add to favorites list\"><span class=\"icon icom-\"></span><span class=\"label\"></span></button><button type=\"button\" tabindex=\"0\" class=\"bd-button cl-banish-button icon-only\" title=\"hide posting\"><span class=\"icon icom-\"></span><span class=\"label\">hide</span></button></div></li><li class=\"cl-search-result cl-search-view-mode-gallery\"><div class=\"gallery-card spacer\"></div></li><li class=\"nearby-separator\">more from nearby areas (sorted by distance) — <a>change search area</a></li><li class=\"cl-search-result cl-search-view-mode-gallery\" title=\"ESTATE SALE\"><div class=\"gallery-card\"><div class=\"cl-gallery\"><a class=\"main\" href=\"https://lasvegas.craigslist.org/gms/d/henderson-estate-sale/7590094459.html\"><div class=\"swipe\" style=\"visibility: visible;\"><div class=\"swipe-wrap\" style=\"width: 13272px;\"><div data-index=\"0\" style=\"width: 316px; left: 0px; transition-duration: 0ms; transform: translateX(0px);\"><span class=\"loading icom-\"></span><img alt=\"\" src=\"https://images.craigslist.org/00Y0Y_gIZ3MlZqsBN_0t20CI_300x300.jpg\"></div><div data-index=\"1\" style=\"width: 316px; left: -316px; transition-duration: 0ms; transform: translateX(316px);\"></div><div data-index=\"2\" style=\"width: 316px; left: -632px; transition-duration: 0ms; transform: translateX(316px);\"></div><div data-index=\"3\" style=\"width: 316px; left: -948px; transition-duration: 0ms; transform: translateX(316px);\"></div><div data-index=\"4\" style=\"width: 316px; left: -1264px; transition-duration: 0ms; transform: translateX(316px);\"></div><div data-index=\"5\" style=\"width: 316px; left: -1580px; transition-duration: 0ms; transform: translateX(316px);\"></div><div data-index=\"6\" style=\"width: 316px; left: -1896px; transition-duration: 0ms; transform: translateX(316px);\"></div><div data-index=\"7\" style=\"width: 316px; left: -2212px; transition-duration: 0ms; transform: translateX(316px);\"></div><div data-index=\"8\" style=\"width: 316px; left: -2528px; transition-duration: 0ms; transform: translateX(316px);\"></div><div data-index=\"9\" style=\"width: 316px; left: -2844px; transition-duration: 0ms; transform: translateX(316px);\"></div><div data-index=\"10\" style=\"width: 316px; left: -3160px; transition-duration: 0ms; transform: translateX(316px);\"></div><div data-index=\"11\" style=\"width: 316px; left: -3476px; transition-duration: 0ms; transform: translateX(316px);\"></div><div data-index=\"12\" style=\"width: 316px; left: -3792px; transition-duration: 0ms; transform: translateX(316px);\"></div><div data-index=\"13\" style=\"width: 316px; left: -4108px; transition-duration: 0ms; transform: translateX(316px);\"></div><div data-index=\"14\" style=\"width: 316px; left: -4424px; transition-duration: 0ms; transform: translateX(316px);\"></div><div data-index=\"15\" style=\"width: 316px; left: -4740px; transition-duration: 0ms; transform: translateX(316px);\"></div><div data-index=\"16\" style=\"width: 316px; left: -5056px; transition-duration: 0ms; transform: translateX(316px);\"></div><div data-index=\"17\" style=\"width: 316px; left: -5372px; transition-duration: 0ms; transform: translateX(316px);\"></div><div data-index=\"18\" style=\"width: 316px; left: -5688px; transition-duration: 0ms; transform: translateX(316px);\"></div><div data-index=\"19\" style=\"width: 316px; left: -6004px; transition-duration: 0ms; transform: translateX(316px);\"></div><div data-index=\"20\" style=\"width: 316px; left: -6320px; transition-duration: 0ms; transform: translateX(-316px);\"></div></div></div><div class=\"slider-back-arrow icom-\"></div><div class=\"slider-forward-arrow icom-\"></div></a><div class=\"dots\"><span class=\"dot selected\">•</span><span class=\"dot\">•</span><span class=\"dot\">•</span><span class=\"dot\">•</span><span class=\"dot\">•</span><span class=\"dot\">•</span><span class=\"dot\">•</span><span class=\"dot\">•</span><span class=\"dot\">•</span><span class=\"dot\">•</span><span class=\"dot\">•</span><span class=\"dot\">•</span><span class=\"dot\">•</span><span class=\"dot\">•</span><span class=\"dot\">•</span><span class=\"dot\">•</span><span class=\"dot\">•</span><span class=\"dot\">•</span><span class=\"dot\">•</span><span class=\"dot\">•</span><span class=\"dot\">•</span></div></div><a class=\"titlestring\" href=\"https://lasvegas.craigslist.org/gms/d/henderson-estate-sale/7590094459.html\">ESTATE SALE</a><div class=\"meta\">2/17, 2/18<span class=\"separator\">·</span>Henderson</div><button type=\"button\" tabindex=\"0\" class=\"bd-button cl-favorite-button icon-only\" title=\"add to favorites list\"><span class=\"icon icom-\"></span><span class=\"label\"></span></button><button type=\"button\" tabindex=\"0\" class=\"bd-button cl-banish-button icon-only\" title=\"hide posting\"><span class=\"icon icom-\"></span><span class=\"label\">hide</span></button></div></li><li class=\"cl-search-result cl-search-view-mode-gallery\" title=\"The Girls Estate Sales ~ Shannon &amp; Cortaro Farms\"><div class=\"gallery-card\"><div class=\"cl-gallery\"><a class=\"main\" href=\"https://tucson.craigslist.org/gms/d/tucson-the-girls-estate-sales-shannon/7590083784.html\"><div class=\"swipe\" style=\"visibility: visible;\"><div class=\"swipe-wrap\" style=\"width: 2528px;\"><div data-index=\"0\" style=\"width: 316px; left: 0px; transition-duration: 0ms; transform: translateX(0px);\"><span class=\"loading icom-\"></span><img alt=\"\" src=\"https://images.craigslist.org/00c0c_7LyoDDw8YaS_0gw0co_300x300.jpg\"></div><div data-index=\"1\" style=\"width: 316px; left: -316px; transition-duration: 0ms; transform: translateX(316px);\"></div><div data-index=\"2\" style=\"width: 316px; left: -632px; transition-duration: 0ms; transform: translateX(316px);\"></div><div data-index=\"3\" style=\"width: 316px; left: -948px; transition-duration: 0ms; transform: translateX(-316px);\"></div></div></div><div class=\"slider-back-arrow icom-\"></div><div class=\"slider-forward-arrow icom-\"></div></a><div class=\"dots\"><span class=\"dot selected\">•</span><span class=\"dot\">•</span><span class=\"dot\">•</span><span class=\"dot\">•</span></div></div><a class=\"titlestring\" href=\"https://tucson.craigslist.org/gms/d/tucson-the-girls-estate-sales-shannon/7590083784.html\">The Girls Estate Sales ~ Shannon &amp; Cortaro Farms</a><div class=\"meta\">2/18<span class=\"separator\">·</span>Tucson</div><button type=\"button\" tabindex=\"0\" class=\"bd-button cl-favorite-button icon-only\" title=\"add to favorites list\"><span class=\"icon icom-\"></span><span class=\"label\"></span></button><button type=\"button\" tabindex=\"0\" class=\"bd-button cl-banish-button icon-only\" title=\"hide posting\"><span class=\"icon icom-\"></span><span class=\"label\">hide</span></button></div></li><li class=\"cl-search-result cl-search-view-mode-gallery\" title=\"Warehouse-Garage Sale on 2/17-2/18: Sewing Factory\"><div class=\"gallery-card\"><div class=\"cl-gallery\"><a class=\"main\" href=\"https://tucson.craigslist.org/gms/d/tucson-warehouse-garage-sale-on-sewing/7590288220.html\"><div class=\"swipe\" style=\"visibility: visible;\"><div class=\"swipe-wrap\" style=\"width: 12640px;\"><div data-index=\"0\" style=\"width: 316px; left: 0px; transition-duration: 0ms; transform: translateX(0px);\"><span class=\"loading icom-\"></span><img alt=\"\" src=\"https://images.craigslist.org/00B0B_bRBKBnZRIks_0CI0t2_300x300.jpg\"></div><div data-index=\"1\" style=\"width: 316px; left: -316px; transition-duration: 0ms; transform: translateX(316px);\"></div><div data-index=\"2\" style=\"width: 316px; left: -632px; transition-duration: 0ms; transform: translateX(316px);\"></div><div data-index=\"3\" style=\"width: 316px; left: -948px; transition-duration: 0ms; transform: translateX(316px);\"></div><div data-index=\"4\" style=\"width: 316px; left: -1264px; transition-duration: 0ms; transform: translateX(316px);\"></div><div data-index=\"5\" style=\"width: 316px; left: -1580px; transition-duration: 0ms; transform: translateX(316px);\"></div><div data-index=\"6\" style=\"width: 316px; left: -1896px; transition-duration: 0ms; transform: translateX(316px);\"></div><div data-index=\"7\" style=\"width: 316px; left: -2212px; transition-duration: 0ms; transform: translateX(316px);\"></div><div data-index=\"8\" style=\"width: 316px; left: -2528px; transition-duration: 0ms; transform: translateX(316px);\"></div><div data-index=\"9\" style=\"width: 316px; left: -2844px; transition-duration: 0ms; transform: translateX(316px);\"></div><div data-index=\"10\" style=\"width: 316px; left: -3160px; transition-duration: 0ms; transform: translateX(316px);\"></div><div data-index=\"11\" style=\"width: 316px; left: -3476px; transition-duration: 0ms; transform: translateX(316px);\"></div><div data-index=\"12\" style=\"width: 316px; left: -3792px; transition-duration: 0ms; transform: translateX(316px);\"></div><div data-index=\"13\" style=\"width: 316px; left: -4108px; transition-duration: 0ms; transform: translateX(316px);\"></div><div data-index=\"14\" style=\"width: 316px; left: -4424px; transition-duration: 0ms; transform: translateX(316px);\"></div><div data-index=\"15\" style=\"width: 316px; left: -4740px; transition-duration: 0ms; transform: translateX(316px);\"></div><div data-index=\"16\" style=\"width: 316px; left: -5056px; transition-duration: 0ms; transform: translateX(316px);\"></div><div data-index=\"17\" style=\"width: 316px; left: -5372px; transition-duration: 0ms; transform: translateX(316px);\"></div><div data-index=\"18\" style=\"width: 316px; left: -5688px; transition-duration: 0ms; transform: translateX(316px);\"></div><div data-index=\"19\" style=\"width: 316px; left: -6004px; transition-duration: 0ms; transform: translateX(-316px);\"></div></div></div><div class=\"slider-back-arrow icom-\"></div><div class=\"slider-forward-arrow icom-\"></div></a><div class=\"dots\"><span class=\"dot selected\">•</span><span class=\"dot\">•</span><span class=\"dot\">•</span><span class=\"dot\">•</span><span class=\"dot\">•</span><span class=\"dot\">•</span><span class=\"dot\">•</span><span class=\"dot\">•</span><span class=\"dot\">•</span><span class=\"dot\">•</span><span class=\"dot\">•</span><span class=\"dot\">•</span><span class=\"dot\">•</span><span class=\"dot\">•</span><span class=\"dot\">•</span><span class=\"dot\">•</span><span class=\"dot\">•</span><span class=\"dot\">•</span><span class=\"dot\">•</span><span class=\"dot\">•</span></div></div><a class=\"titlestring\" href=\"https://tucson.craigslist.org/gms/d/tucson-warehouse-garage-sale-on-sewing/7590288220.html\">Warehouse-Garage Sale on 2/17-2/18: Sewing Factory</a><div class=\"meta\">2/17, 2/18<span class=\"separator\">·</span>Tucson, AZ (Grant/Oracle)</div><button type=\"button\" tabindex=\"0\" class=\"bd-button cl-favorite-button icon-only\" title=\"add to favorites list\"><span class=\"icon icom-\"></span><span class=\"label\"></span></button><button type=\"button\" tabindex=\"0\" class=\"bd-button cl-banish-button icon-only\" title=\"hide posting\"><span class=\"icon icom-\"></span><span class=\"label\">hide</span></button></div></li><li class=\"cl-search-result cl-search-view-mode-gallery\" title=\"Huge garage sale (storage unit)\"><div class=\"gallery-card\"><div class=\"cl-gallery\"><a class=\"main empty\" href=\"https://palmsprings.craigslist.org/gms/d/palm-desert-huge-garage-sale-storage/7590147486.html\"><p>no image</p><div class=\"icom-\"></div></a></div><a class=\"titlestring\" href=\"https://palmsprings.craigslist.org/gms/d/palm-desert-huge-garage-sale-storage/7590147486.html\">Huge garage sale (storage unit)</a><div class=\"meta\">2/18<span class=\"separator\">·</span>Palm desert</div><button type=\"button\" tabindex=\"0\" class=\"bd-button cl-favorite-button icon-only\" title=\"add to favorites list\"><span class=\"icon icom-\"></span><span class=\"label\"></span></button><button type=\"button\" tabindex=\"0\" class=\"bd-button cl-banish-button icon-only\" title=\"hide posting\"><span class=\"icon icom-\"></span><span class=\"label\">hide</span></button></div></li><li class=\"cl-search-result cl-search-view-mode-gallery\"><div class=\"gallery-card spacer\"></div></li><li class=\"cl-search-result cl-search-view-mode-gallery\"><div class=\"gallery-card spacer\"></div></li></ol></div><p class=\"no-results\">no results</p><div class=\"no-day-pages cl-search-toolbars bottom cl-multi-column\" id=\"search-toolbars-2\" style=\"\"><div class=\"cl-search-paginator\"><button type=\"button\" tabindex=\"0\" class=\"bd-button cl-first-page icon-only bd-disabled\"><span class=\"icon icom-\"></span><span class=\"label\">first page</span></button><button type=\"button\" tabindex=\"0\" class=\"bd-button cl-prev-page icon-only bd-disabled\"><span class=\"icon icom-\"></span><span class=\"label\">previous page</span></button><span class=\"cl-page-number\">1 - 6 of 6</span><button type=\"button\" tabindex=\"0\" class=\"bd-button cl-next-page icon-only bd-disabled\"><span class=\"icon icom-\"></span><span class=\"label\">next page</span></button><button type=\"button\" tabindex=\"0\" class=\"bd-button cl-last-page icon-only bd-disabled\"><span class=\"icon icom-\"></span><span class=\"label\">last page</span></button></div><div class=\"cl-search-day-paginator\"><button type=\"button\" tabindex=\"0\" class=\"bd-button cl-prev-day-page icon-only\"><span class=\"icon icom-\"></span><span class=\"label\">previous day</span></button><span class=\"cl-page-date\"></span><button type=\"button\" tabindex=\"0\" class=\"bd-button cl-next-day-page icon-only\"><span class=\"icon icom-\"></span><span class=\"label\">next day</span></button></div></div><div class=\"cl-psa\"><a tabindex=\"0\" href=\"https://www.craigslist.org/about/FHA\" class=\"bd-anchor text-only aboutFha\"><span class=\"label\">fair housing</span></a><a tabindex=\"0\" href=\"https://www.craigslist.org/about/safety\" class=\"bd-anchor text-only safety\"><span class=\"label\">safety tips</span></a><a tabindex=\"0\" href=\"https://www.craigslist.org/about/prohibited\" class=\"bd-anchor text-only aboutProhibited\"><span class=\"label\">prohibited items</span></a><a tabindex=\"0\" href=\"https://www.craigslist.org/about/recalled_items\" class=\"bd-anchor text-only aboutRecalledItems\"><span class=\"label\">product recalls</span></a><a tabindex=\"0\" href=\"https://www.craigslist.org/about/scams\" class=\"bd-anchor text-only scams\"><span class=\"label\">avoiding scams</span></a></div></div></main>\n",
      "    <footer><span class=\"copyright\">© 2023 craigslist</span><a tabindex=\"0\" href=\"https://www.craigslist.org/about/help\" class=\"bd-anchor\"><span class=\"icon icom-\"></span><span class=\"label\">help</span></a><a tabindex=\"0\" href=\"https://www.craigslist.org/about/safety\" class=\"bd-anchor\"><span class=\"icon icom-\"></span><span class=\"label\">safety</span></a><a tabindex=\"0\" href=\"https://www.craigslist.org/about/privacy.policy\" class=\"bd-anchor\"><span class=\"icon icom-\"></span><span class=\"label\">privacy</span></a><a tabindex=\"0\" href=\"https://forums.craigslist.org/?forumID=8\" class=\"bd-anchor\"><span class=\"icon icom-\"></span><span class=\"label\">feedback</span></a><a tabindex=\"0\" href=\"https://www.craigslist.org/about/terms.of.use\" class=\"bd-anchor\"><span class=\"icon icom-\"></span><span class=\"label\">terms</span></a><a tabindex=\"0\" href=\"https://www.craigslist.org/about\" class=\"bd-anchor\"><span class=\"icon icom-\"></span><span class=\"label\">about</span></a></footer></div>\n",
      "\n",
      "    <div id=\"curtain\">\n",
      "        <div class=\"cover\"></div>\n",
      "        <div class=\"content\">\n",
      "            <div class=\"icom-\"></div>\n",
      "            <div class=\"text loading\">loading</div>\n",
      "            <div class=\"text reading\">reading</div>\n",
      "            <div class=\"text writing\">writing</div>\n",
      "            <div class=\"text saving\">saving</div>\n",
      "            <div class=\"text searching\">searching</div>\n",
      "            <div id=\"curtainText\" class=\"text message\"></div>\n",
      "            <div class=\"text unrecoverable\">\n",
      "                 <p><a id=\"cl-unrecoverable-hard-refresh\" href=\"#\" onclick=\"location.reload(true);\">refresh the page.</a></p>\n",
      "             </div>\n",
      "         </div>\n",
      "    </div>\n",
      "\n",
      "    \n",
      "        \n",
      "    \n",
      "\n",
      "    <script>\n",
      "        try {\n",
      "            window.onpageshow = function(event) {\n",
      "                if (event.persisted && cl.upTime()>1000 && /iPhone/.test(navigator.userAgent)) {\n",
      "                    console.log('reloading');\n",
      "                    window.location.reload();\n",
      "                }\n",
      "            };\n",
      "        } catch(e) {\n",
      "        }\n",
      "    </script>\n",
      "\n",
      "\n",
      "</body></html>\n"
     ]
    }
   ],
   "source": [
    "print(driver.page_source)"
   ]
  },
  {
   "cell_type": "code",
   "execution_count": 6,
   "metadata": {},
   "outputs": [
    {
     "data": {
      "text/plain": [
       "'4.8.0'"
      ]
     },
     "execution_count": 6,
     "metadata": {},
     "output_type": "execute_result"
    }
   ],
   "source": [
    "import selenium\n",
    "selenium.__version__"
   ]
  },
  {
   "cell_type": "code",
   "execution_count": 23,
   "metadata": {},
   "outputs": [],
   "source": [
    "# Get all urls lists in the page source\n",
    "all_links = driver.find_elements(\"tag name\",\"a\")\n",
    "elems = driver.find_elements(\"xpath\",\"//*[@href]\")"
   ]
  },
  {
   "cell_type": "code",
   "execution_count": 24,
   "metadata": {},
   "outputs": [],
   "source": [
    "# Put all urls in a list\n",
    "urls =[]\n",
    "for elem in elems:\n",
    "    urls.append(elem.get_attribute(\"href\"))\n",
    "    sleep(5)"
   ]
  },
  {
   "cell_type": "code",
   "execution_count": 25,
   "metadata": {},
   "outputs": [
    {
     "data": {
      "text/plain": [
       "['https://phoenix.craigslist.org/search/gms?query=*mattress*+%7C+*cabinet*+%7C+*wrench*',\n",
       " 'https://www.craigslist.org/static/www/www-2023-02-16-17-05-3f0f531f13c8d37c17be5506a8eb248069e00430.css',\n",
       " 'https://phoenix.craigslist.org/',\n",
       " 'https://www.craigslist.org/about/FHA',\n",
       " 'https://www.craigslist.org/about/safety',\n",
       " 'https://www.craigslist.org/about/prohibited',\n",
       " 'https://www.craigslist.org/about/recalled_items',\n",
       " 'https://www.craigslist.org/about/scams',\n",
       " 'https://phoenix.craigslist.org/nph/gms/d/phoenix-durable-medical-equipment/7590192090.html',\n",
       " 'https://phoenix.craigslist.org/nph/gms/d/phoenix-durable-medical-equipment/7590192090.html',\n",
       " 'https://phoenix.craigslist.org/nph/gms/d/phoenix-friday-sat-large-estate-sale/7590071646.html',\n",
       " 'https://phoenix.craigslist.org/nph/gms/d/phoenix-friday-sat-large-estate-sale/7590071646.html',\n",
       " 'https://lasvegas.craigslist.org/gms/d/henderson-estate-sale/7590094459.html',\n",
       " 'https://lasvegas.craigslist.org/gms/d/henderson-estate-sale/7590094459.html',\n",
       " 'https://tucson.craigslist.org/gms/d/tucson-the-girls-estate-sales-shannon/7590083784.html',\n",
       " 'https://tucson.craigslist.org/gms/d/tucson-the-girls-estate-sales-shannon/7590083784.html',\n",
       " 'https://tucson.craigslist.org/gms/d/tucson-warehouse-garage-sale-on-sewing/7590288220.html',\n",
       " 'https://tucson.craigslist.org/gms/d/tucson-warehouse-garage-sale-on-sewing/7590288220.html',\n",
       " 'https://palmsprings.craigslist.org/gms/d/palm-desert-huge-garage-sale-storage/7590147486.html',\n",
       " 'https://palmsprings.craigslist.org/gms/d/palm-desert-huge-garage-sale-storage/7590147486.html',\n",
       " 'https://www.craigslist.org/about/FHA',\n",
       " 'https://www.craigslist.org/about/safety',\n",
       " 'https://www.craigslist.org/about/prohibited',\n",
       " 'https://www.craigslist.org/about/recalled_items',\n",
       " 'https://www.craigslist.org/about/scams',\n",
       " 'https://www.craigslist.org/about/help',\n",
       " 'https://www.craigslist.org/about/safety',\n",
       " 'https://www.craigslist.org/about/privacy.policy',\n",
       " 'https://forums.craigslist.org/?forumID=8',\n",
       " 'https://www.craigslist.org/about/terms.of.use',\n",
       " 'https://www.craigslist.org/about',\n",
       " 'https://phoenix.craigslist.org/search/gms?postedToday=1&query=*mattress*%20%7C%20*cabinet*%20%7C%20*wrench*#']"
      ]
     },
     "execution_count": 25,
     "metadata": {},
     "output_type": "execute_result"
    }
   ],
   "source": [
    "urls"
   ]
  },
  {
   "cell_type": "code",
   "execution_count": 26,
   "metadata": {},
   "outputs": [],
   "source": [
    "# Filter url links and only contain those opened as a post\n",
    "urls_updated =[]\n",
    "for i in range(len(urls)):\n",
    "    if urls[i] not in urls_updated:\n",
    "        if 'html' in urls[i] and 'phoenix.craigslist.org' in urls[i]:\n",
    "            urls_updated.append(urls[i])\n"
   ]
  },
  {
   "cell_type": "code",
   "execution_count": 62,
   "metadata": {},
   "outputs": [
    {
     "data": {
      "text/plain": [
       "['https://phoenix.craigslist.org/nph/gms/d/phoenix-durable-medical-equipment/7590192090.html',\n",
       " 'https://phoenix.craigslist.org/nph/gms/d/phoenix-friday-sat-large-estate-sale/7590071646.html']"
      ]
     },
     "execution_count": 62,
     "metadata": {},
     "output_type": "execute_result"
    }
   ],
   "source": [
    "urls_updated"
   ]
  },
  {
   "cell_type": "markdown",
   "metadata": {},
   "source": [
    "Step 2: Check the urls one by one and find which keyword in the post"
   ]
  },
  {
   "cell_type": "code",
   "execution_count": 46,
   "metadata": {},
   "outputs": [],
   "source": [
    "# put the result in a dictionary\n",
    "my_dict = {}\n",
    "for i in range(len(urls_updated)):\n",
    "    thispage = requests.get(urls_updated[i])\n",
    "    bs = BeautifulSoup(thispage.text,'html.parser')\n",
    "    content = bs.get_text().lower()\n",
    "    if \"mattress\" in content:\n",
    "        my_dict[\"mattress\"] = urls_updated[i]\n",
    "    elif \"cabinet\" in content:\n",
    "        my_dict[\"cabinet\"] = urls_updated[i]\n",
    "    else:\n",
    "        my_dict[\"wrench\"] = urls_updated[i]\n",
    "    sleep(5)"
   ]
  },
  {
   "cell_type": "code",
   "execution_count": 47,
   "metadata": {},
   "outputs": [
    {
     "data": {
      "text/plain": [
       "{'mattress': 'https://phoenix.craigslist.org/nph/gms/d/phoenix-durable-medical-equipment/7590192090.html',\n",
       " 'cabinet': 'https://phoenix.craigslist.org/nph/gms/d/phoenix-friday-sat-large-estate-sale/7590071646.html'}"
      ]
     },
     "execution_count": 47,
     "metadata": {},
     "output_type": "execute_result"
    }
   ],
   "source": [
    "my_dict"
   ]
  },
  {
   "cell_type": "code",
   "execution_count": 64,
   "metadata": {},
   "outputs": [],
   "source": [
    "# quit the drive\n",
    "driver.quit()"
   ]
  },
  {
   "cell_type": "markdown",
   "metadata": {},
   "source": [
    "Step 3: Convert the dictionary to a pandas dataframe."
   ]
  },
  {
   "cell_type": "code",
   "execution_count": 56,
   "metadata": {},
   "outputs": [],
   "source": [
    "import pandas as pd \n",
    "df = pd.DataFrame.from_dict(my_dict,orient='index').reset_index()"
   ]
  },
  {
   "cell_type": "code",
   "execution_count": 60,
   "metadata": {},
   "outputs": [],
   "source": [
    "df = df.rename(columns= {\"index\":\"key_word\",0: \"url\"})"
   ]
  },
  {
   "cell_type": "code",
   "execution_count": 61,
   "metadata": {},
   "outputs": [],
   "source": [
    "# output\n",
    "df.to_csv(\"craigslist.csv\")"
   ]
  },
  {
   "cell_type": "code",
   "execution_count": null,
   "metadata": {},
   "outputs": [],
   "source": []
  }
 ],
 "metadata": {
  "kernelspec": {
   "display_name": "Python 3",
   "language": "python",
   "name": "python3"
  },
  "language_info": {
   "codemirror_mode": {
    "name": "ipython",
    "version": 3
   },
   "file_extension": ".py",
   "mimetype": "text/x-python",
   "name": "python",
   "nbconvert_exporter": "python",
   "pygments_lexer": "ipython3",
   "version": "3.7.6"
  }
 },
 "nbformat": 4,
 "nbformat_minor": 4
}
