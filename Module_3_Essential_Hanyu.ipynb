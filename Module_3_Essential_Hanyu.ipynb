{
  "nbformat": 4,
  "nbformat_minor": 0,
  "metadata": {
    "colab": {
      "provenance": [],
      "mount_file_id": "1efT-Jj-VtfPQwo0xcoM-7k2Qbaqzmd8H",
      "authorship_tag": "ABX9TyOhuM/IWhpYvmvoojBI0Smu",
      "include_colab_link": true
    },
    "kernelspec": {
      "name": "python3",
      "display_name": "Python 3"
    },
    "language_info": {
      "name": "python"
    }
  },
  "cells": [
    {
      "cell_type": "markdown",
      "metadata": {
        "id": "view-in-github",
        "colab_type": "text"
      },
      "source": [
        "<a href=\"https://colab.research.google.com/github/hanyuc37/stc510/blob/main/Module_3_Essential_Hanyu.ipynb\" target=\"_parent\"><img src=\"https://colab.research.google.com/assets/colab-badge.svg\" alt=\"Open In Colab\"/></a>"
      ]
    },
    {
      "cell_type": "code",
      "execution_count": 259,
      "metadata": {
        "id": "SUButW7Ks00E"
      },
      "outputs": [],
      "source": [
        "import pandas as pd\n",
        "import numpy as np\n",
        "import seaborn as sns\n",
        "import matplotlib.pyplot as plt\n",
        "from datetime import datetime"
      ]
    },
    {
      "cell_type": "markdown",
      "source": [
        "Based on the Crime data in Phoenix. I'm going to observe the police office location and phoenix unemployment and see if there is any correlation between them"
      ],
      "metadata": {
        "id": "5H3Nv9G8tHPH"
      }
    },
    {
      "cell_type": "code",
      "source": [
        "crime = pd.read_csv(\"/content/drive/MyDrive/STC 510/Module 3 Project /Phoenix.csv\",error_bad_lines=False, engine ='python')\n",
        "unemployment = pd.read_csv(\"/content/drive/MyDrive/STC 510/Module 3 Project /phoenix_unemployment.csv\")\n",
        "police = pd.read_csv(\"/content/drive/MyDrive/STC 510/Module 3 Project /Police Office.csv\")"
      ],
      "metadata": {
        "colab": {
          "base_uri": "https://localhost:8080/"
        },
        "id": "Lw6KxYoHtD0b",
        "outputId": "f663dbbb-4430-49cb-c83e-128eb4bb8514"
      },
      "execution_count": 260,
      "outputs": [
        {
          "output_type": "stream",
          "name": "stderr",
          "text": [
            "/usr/local/lib/python3.8/dist-packages/IPython/core/interactiveshell.py:3326: FutureWarning: The error_bad_lines argument has been deprecated and will be removed in a future version.\n",
            "\n",
            "\n",
            "  exec(code_obj, self.user_global_ns, self.user_ns)\n",
            "Skipping line 131678: unexpected end of data\n"
          ]
        }
      ]
    },
    {
      "cell_type": "code",
      "source": [
        "unemployment.head() # year/month"
      ],
      "metadata": {
        "colab": {
          "base_uri": "https://localhost:8080/",
          "height": 206
        },
        "id": "eAuFOPNsuATh",
        "outputId": "e2f145c2-cbee-479d-b982-30653e16a625"
      },
      "execution_count": 261,
      "outputs": [
        {
          "output_type": "execute_result",
          "data": {
            "text/plain": [
              "              series_id     city state  year  month  unemployment_rate\n",
              "0  LAUCT045500000000003  Phoenix    AZ  1990      1                5.0\n",
              "1  LAUCT045500000000003  Phoenix    AZ  1990      2                4.7\n",
              "2  LAUCT045500000000003  Phoenix    AZ  1990      3                4.7\n",
              "3  LAUCT045500000000003  Phoenix    AZ  1990      4                4.7\n",
              "4  LAUCT045500000000003  Phoenix    AZ  1990      5                4.6"
            ],
            "text/html": [
              "\n",
              "  <div id=\"df-b6f314a0-e709-4959-982e-59f3b4f943d7\">\n",
              "    <div class=\"colab-df-container\">\n",
              "      <div>\n",
              "<style scoped>\n",
              "    .dataframe tbody tr th:only-of-type {\n",
              "        vertical-align: middle;\n",
              "    }\n",
              "\n",
              "    .dataframe tbody tr th {\n",
              "        vertical-align: top;\n",
              "    }\n",
              "\n",
              "    .dataframe thead th {\n",
              "        text-align: right;\n",
              "    }\n",
              "</style>\n",
              "<table border=\"1\" class=\"dataframe\">\n",
              "  <thead>\n",
              "    <tr style=\"text-align: right;\">\n",
              "      <th></th>\n",
              "      <th>series_id</th>\n",
              "      <th>city</th>\n",
              "      <th>state</th>\n",
              "      <th>year</th>\n",
              "      <th>month</th>\n",
              "      <th>unemployment_rate</th>\n",
              "    </tr>\n",
              "  </thead>\n",
              "  <tbody>\n",
              "    <tr>\n",
              "      <th>0</th>\n",
              "      <td>LAUCT045500000000003</td>\n",
              "      <td>Phoenix</td>\n",
              "      <td>AZ</td>\n",
              "      <td>1990</td>\n",
              "      <td>1</td>\n",
              "      <td>5.0</td>\n",
              "    </tr>\n",
              "    <tr>\n",
              "      <th>1</th>\n",
              "      <td>LAUCT045500000000003</td>\n",
              "      <td>Phoenix</td>\n",
              "      <td>AZ</td>\n",
              "      <td>1990</td>\n",
              "      <td>2</td>\n",
              "      <td>4.7</td>\n",
              "    </tr>\n",
              "    <tr>\n",
              "      <th>2</th>\n",
              "      <td>LAUCT045500000000003</td>\n",
              "      <td>Phoenix</td>\n",
              "      <td>AZ</td>\n",
              "      <td>1990</td>\n",
              "      <td>3</td>\n",
              "      <td>4.7</td>\n",
              "    </tr>\n",
              "    <tr>\n",
              "      <th>3</th>\n",
              "      <td>LAUCT045500000000003</td>\n",
              "      <td>Phoenix</td>\n",
              "      <td>AZ</td>\n",
              "      <td>1990</td>\n",
              "      <td>4</td>\n",
              "      <td>4.7</td>\n",
              "    </tr>\n",
              "    <tr>\n",
              "      <th>4</th>\n",
              "      <td>LAUCT045500000000003</td>\n",
              "      <td>Phoenix</td>\n",
              "      <td>AZ</td>\n",
              "      <td>1990</td>\n",
              "      <td>5</td>\n",
              "      <td>4.6</td>\n",
              "    </tr>\n",
              "  </tbody>\n",
              "</table>\n",
              "</div>\n",
              "      <button class=\"colab-df-convert\" onclick=\"convertToInteractive('df-b6f314a0-e709-4959-982e-59f3b4f943d7')\"\n",
              "              title=\"Convert this dataframe to an interactive table.\"\n",
              "              style=\"display:none;\">\n",
              "        \n",
              "  <svg xmlns=\"http://www.w3.org/2000/svg\" height=\"24px\"viewBox=\"0 0 24 24\"\n",
              "       width=\"24px\">\n",
              "    <path d=\"M0 0h24v24H0V0z\" fill=\"none\"/>\n",
              "    <path d=\"M18.56 5.44l.94 2.06.94-2.06 2.06-.94-2.06-.94-.94-2.06-.94 2.06-2.06.94zm-11 1L8.5 8.5l.94-2.06 2.06-.94-2.06-.94L8.5 2.5l-.94 2.06-2.06.94zm10 10l.94 2.06.94-2.06 2.06-.94-2.06-.94-.94-2.06-.94 2.06-2.06.94z\"/><path d=\"M17.41 7.96l-1.37-1.37c-.4-.4-.92-.59-1.43-.59-.52 0-1.04.2-1.43.59L10.3 9.45l-7.72 7.72c-.78.78-.78 2.05 0 2.83L4 21.41c.39.39.9.59 1.41.59.51 0 1.02-.2 1.41-.59l7.78-7.78 2.81-2.81c.8-.78.8-2.07 0-2.86zM5.41 20L4 18.59l7.72-7.72 1.47 1.35L5.41 20z\"/>\n",
              "  </svg>\n",
              "      </button>\n",
              "      \n",
              "  <style>\n",
              "    .colab-df-container {\n",
              "      display:flex;\n",
              "      flex-wrap:wrap;\n",
              "      gap: 12px;\n",
              "    }\n",
              "\n",
              "    .colab-df-convert {\n",
              "      background-color: #E8F0FE;\n",
              "      border: none;\n",
              "      border-radius: 50%;\n",
              "      cursor: pointer;\n",
              "      display: none;\n",
              "      fill: #1967D2;\n",
              "      height: 32px;\n",
              "      padding: 0 0 0 0;\n",
              "      width: 32px;\n",
              "    }\n",
              "\n",
              "    .colab-df-convert:hover {\n",
              "      background-color: #E2EBFA;\n",
              "      box-shadow: 0px 1px 2px rgba(60, 64, 67, 0.3), 0px 1px 3px 1px rgba(60, 64, 67, 0.15);\n",
              "      fill: #174EA6;\n",
              "    }\n",
              "\n",
              "    [theme=dark] .colab-df-convert {\n",
              "      background-color: #3B4455;\n",
              "      fill: #D2E3FC;\n",
              "    }\n",
              "\n",
              "    [theme=dark] .colab-df-convert:hover {\n",
              "      background-color: #434B5C;\n",
              "      box-shadow: 0px 1px 3px 1px rgba(0, 0, 0, 0.15);\n",
              "      filter: drop-shadow(0px 1px 2px rgba(0, 0, 0, 0.3));\n",
              "      fill: #FFFFFF;\n",
              "    }\n",
              "  </style>\n",
              "\n",
              "      <script>\n",
              "        const buttonEl =\n",
              "          document.querySelector('#df-b6f314a0-e709-4959-982e-59f3b4f943d7 button.colab-df-convert');\n",
              "        buttonEl.style.display =\n",
              "          google.colab.kernel.accessAllowed ? 'block' : 'none';\n",
              "\n",
              "        async function convertToInteractive(key) {\n",
              "          const element = document.querySelector('#df-b6f314a0-e709-4959-982e-59f3b4f943d7');\n",
              "          const dataTable =\n",
              "            await google.colab.kernel.invokeFunction('convertToInteractive',\n",
              "                                                     [key], {});\n",
              "          if (!dataTable) return;\n",
              "\n",
              "          const docLinkHtml = 'Like what you see? Visit the ' +\n",
              "            '<a target=\"_blank\" href=https://colab.research.google.com/notebooks/data_table.ipynb>data table notebook</a>'\n",
              "            + ' to learn more about interactive tables.';\n",
              "          element.innerHTML = '';\n",
              "          dataTable['output_type'] = 'display_data';\n",
              "          await google.colab.output.renderOutput(dataTable, element);\n",
              "          const docLink = document.createElement('div');\n",
              "          docLink.innerHTML = docLinkHtml;\n",
              "          element.appendChild(docLink);\n",
              "        }\n",
              "      </script>\n",
              "    </div>\n",
              "  </div>\n",
              "  "
            ]
          },
          "metadata": {},
          "execution_count": 261
        }
      ]
    },
    {
      "cell_type": "code",
      "source": [
        "crime.head()"
      ],
      "metadata": {
        "colab": {
          "base_uri": "https://localhost:8080/",
          "height": 354
        },
        "id": "5Iv0Cy6XuGgL",
        "outputId": "ed50dc8a-6243-49ce-b0d0-c2fca72993f8"
      },
      "execution_count": 262,
      "outputs": [
        {
          "output_type": "execute_result",
          "data": {
            "text/plain": [
              "        INC NUMBER        OCCURRED ON        OCCURRED TO   UCR CRIME CATEGORY  \\\n",
              "0  201600000052855  11/01/2015  00:00  01/09/2016  00:00  MOTOR VEHICLE THEFT   \n",
              "1  201600000594484  11/01/2015  00:00                NaN                 RAPE   \n",
              "2  201500002102327  11/01/2015  00:00  11/01/2015  09:00        LARCENY-THEFT   \n",
              "3  201500002101405  11/01/2015  00:00  11/01/2015  05:00  MOTOR VEHICLE THEFT   \n",
              "4  201500002102668  11/01/2015  00:00  11/01/2015  11:50  MOTOR VEHICLE THEFT   \n",
              "\n",
              "             100 BLOCK ADDR      ZIP         PREMISE TYPE  \n",
              "0  N 43RD AVE & W CACTUS RD  85029.0  SINGLE FAMILY HOUSE  \n",
              "1         13XX E ALMERIA RD  85006.0  SINGLE FAMILY HOUSE  \n",
              "2            51XX N 15TH ST  85014.0            APARTMENT  \n",
              "3       102XX W MEDLOCK AVE  85307.0  SINGLE FAMILY HOUSE  \n",
              "4            69XX W WOOD ST  85043.0  SINGLE FAMILY HOUSE  "
            ],
            "text/html": [
              "\n",
              "  <div id=\"df-745c0501-7015-4047-8f08-f3c321b244f0\">\n",
              "    <div class=\"colab-df-container\">\n",
              "      <div>\n",
              "<style scoped>\n",
              "    .dataframe tbody tr th:only-of-type {\n",
              "        vertical-align: middle;\n",
              "    }\n",
              "\n",
              "    .dataframe tbody tr th {\n",
              "        vertical-align: top;\n",
              "    }\n",
              "\n",
              "    .dataframe thead th {\n",
              "        text-align: right;\n",
              "    }\n",
              "</style>\n",
              "<table border=\"1\" class=\"dataframe\">\n",
              "  <thead>\n",
              "    <tr style=\"text-align: right;\">\n",
              "      <th></th>\n",
              "      <th>INC NUMBER</th>\n",
              "      <th>OCCURRED ON</th>\n",
              "      <th>OCCURRED TO</th>\n",
              "      <th>UCR CRIME CATEGORY</th>\n",
              "      <th>100 BLOCK ADDR</th>\n",
              "      <th>ZIP</th>\n",
              "      <th>PREMISE TYPE</th>\n",
              "    </tr>\n",
              "  </thead>\n",
              "  <tbody>\n",
              "    <tr>\n",
              "      <th>0</th>\n",
              "      <td>201600000052855</td>\n",
              "      <td>11/01/2015  00:00</td>\n",
              "      <td>01/09/2016  00:00</td>\n",
              "      <td>MOTOR VEHICLE THEFT</td>\n",
              "      <td>N 43RD AVE &amp; W CACTUS RD</td>\n",
              "      <td>85029.0</td>\n",
              "      <td>SINGLE FAMILY HOUSE</td>\n",
              "    </tr>\n",
              "    <tr>\n",
              "      <th>1</th>\n",
              "      <td>201600000594484</td>\n",
              "      <td>11/01/2015  00:00</td>\n",
              "      <td>NaN</td>\n",
              "      <td>RAPE</td>\n",
              "      <td>13XX E ALMERIA RD</td>\n",
              "      <td>85006.0</td>\n",
              "      <td>SINGLE FAMILY HOUSE</td>\n",
              "    </tr>\n",
              "    <tr>\n",
              "      <th>2</th>\n",
              "      <td>201500002102327</td>\n",
              "      <td>11/01/2015  00:00</td>\n",
              "      <td>11/01/2015  09:00</td>\n",
              "      <td>LARCENY-THEFT</td>\n",
              "      <td>51XX N 15TH ST</td>\n",
              "      <td>85014.0</td>\n",
              "      <td>APARTMENT</td>\n",
              "    </tr>\n",
              "    <tr>\n",
              "      <th>3</th>\n",
              "      <td>201500002101405</td>\n",
              "      <td>11/01/2015  00:00</td>\n",
              "      <td>11/01/2015  05:00</td>\n",
              "      <td>MOTOR VEHICLE THEFT</td>\n",
              "      <td>102XX W MEDLOCK AVE</td>\n",
              "      <td>85307.0</td>\n",
              "      <td>SINGLE FAMILY HOUSE</td>\n",
              "    </tr>\n",
              "    <tr>\n",
              "      <th>4</th>\n",
              "      <td>201500002102668</td>\n",
              "      <td>11/01/2015  00:00</td>\n",
              "      <td>11/01/2015  11:50</td>\n",
              "      <td>MOTOR VEHICLE THEFT</td>\n",
              "      <td>69XX W WOOD ST</td>\n",
              "      <td>85043.0</td>\n",
              "      <td>SINGLE FAMILY HOUSE</td>\n",
              "    </tr>\n",
              "  </tbody>\n",
              "</table>\n",
              "</div>\n",
              "      <button class=\"colab-df-convert\" onclick=\"convertToInteractive('df-745c0501-7015-4047-8f08-f3c321b244f0')\"\n",
              "              title=\"Convert this dataframe to an interactive table.\"\n",
              "              style=\"display:none;\">\n",
              "        \n",
              "  <svg xmlns=\"http://www.w3.org/2000/svg\" height=\"24px\"viewBox=\"0 0 24 24\"\n",
              "       width=\"24px\">\n",
              "    <path d=\"M0 0h24v24H0V0z\" fill=\"none\"/>\n",
              "    <path d=\"M18.56 5.44l.94 2.06.94-2.06 2.06-.94-2.06-.94-.94-2.06-.94 2.06-2.06.94zm-11 1L8.5 8.5l.94-2.06 2.06-.94-2.06-.94L8.5 2.5l-.94 2.06-2.06.94zm10 10l.94 2.06.94-2.06 2.06-.94-2.06-.94-.94-2.06-.94 2.06-2.06.94z\"/><path d=\"M17.41 7.96l-1.37-1.37c-.4-.4-.92-.59-1.43-.59-.52 0-1.04.2-1.43.59L10.3 9.45l-7.72 7.72c-.78.78-.78 2.05 0 2.83L4 21.41c.39.39.9.59 1.41.59.51 0 1.02-.2 1.41-.59l7.78-7.78 2.81-2.81c.8-.78.8-2.07 0-2.86zM5.41 20L4 18.59l7.72-7.72 1.47 1.35L5.41 20z\"/>\n",
              "  </svg>\n",
              "      </button>\n",
              "      \n",
              "  <style>\n",
              "    .colab-df-container {\n",
              "      display:flex;\n",
              "      flex-wrap:wrap;\n",
              "      gap: 12px;\n",
              "    }\n",
              "\n",
              "    .colab-df-convert {\n",
              "      background-color: #E8F0FE;\n",
              "      border: none;\n",
              "      border-radius: 50%;\n",
              "      cursor: pointer;\n",
              "      display: none;\n",
              "      fill: #1967D2;\n",
              "      height: 32px;\n",
              "      padding: 0 0 0 0;\n",
              "      width: 32px;\n",
              "    }\n",
              "\n",
              "    .colab-df-convert:hover {\n",
              "      background-color: #E2EBFA;\n",
              "      box-shadow: 0px 1px 2px rgba(60, 64, 67, 0.3), 0px 1px 3px 1px rgba(60, 64, 67, 0.15);\n",
              "      fill: #174EA6;\n",
              "    }\n",
              "\n",
              "    [theme=dark] .colab-df-convert {\n",
              "      background-color: #3B4455;\n",
              "      fill: #D2E3FC;\n",
              "    }\n",
              "\n",
              "    [theme=dark] .colab-df-convert:hover {\n",
              "      background-color: #434B5C;\n",
              "      box-shadow: 0px 1px 3px 1px rgba(0, 0, 0, 0.15);\n",
              "      filter: drop-shadow(0px 1px 2px rgba(0, 0, 0, 0.3));\n",
              "      fill: #FFFFFF;\n",
              "    }\n",
              "  </style>\n",
              "\n",
              "      <script>\n",
              "        const buttonEl =\n",
              "          document.querySelector('#df-745c0501-7015-4047-8f08-f3c321b244f0 button.colab-df-convert');\n",
              "        buttonEl.style.display =\n",
              "          google.colab.kernel.accessAllowed ? 'block' : 'none';\n",
              "\n",
              "        async function convertToInteractive(key) {\n",
              "          const element = document.querySelector('#df-745c0501-7015-4047-8f08-f3c321b244f0');\n",
              "          const dataTable =\n",
              "            await google.colab.kernel.invokeFunction('convertToInteractive',\n",
              "                                                     [key], {});\n",
              "          if (!dataTable) return;\n",
              "\n",
              "          const docLinkHtml = 'Like what you see? Visit the ' +\n",
              "            '<a target=\"_blank\" href=https://colab.research.google.com/notebooks/data_table.ipynb>data table notebook</a>'\n",
              "            + ' to learn more about interactive tables.';\n",
              "          element.innerHTML = '';\n",
              "          dataTable['output_type'] = 'display_data';\n",
              "          await google.colab.output.renderOutput(dataTable, element);\n",
              "          const docLink = document.createElement('div');\n",
              "          docLink.innerHTML = docLinkHtml;\n",
              "          element.appendChild(docLink);\n",
              "        }\n",
              "      </script>\n",
              "    </div>\n",
              "  </div>\n",
              "  "
            ]
          },
          "metadata": {},
          "execution_count": 262
        }
      ]
    },
    {
      "cell_type": "code",
      "source": [
        "police.head() # Zipcode"
      ],
      "metadata": {
        "colab": {
          "base_uri": "https://localhost:8080/",
          "height": 409
        },
        "id": "2wz7UqgLuJII",
        "outputId": "254f4b77-2e86-4ba8-e3b3-1ea5c3ddfb5f"
      },
      "execution_count": 263,
      "outputs": [
        {
          "output_type": "execute_result",
          "data": {
            "text/plain": [
              "            X          Y                    PlaceName             AddressFull  \\\n",
              "0 -112.081994  33.448525  Phoenix Police Headquarters     620 W WASHINGTON ST   \n",
              "1 -112.143411  33.597083         Cactus Park Precinct        12220 N 39TH AVE   \n",
              "2 -112.049179  33.429311        Central City Precinct          1902 S 16TH ST   \n",
              "3 -112.019420  33.437871               Airport Bureau  2908 E SKY HARBOR BLVD   \n",
              "4 -112.192883  33.474351             Maryvale Station     6180 W ENCANTO BLVD   \n",
              "\n",
              "  AddressCity AddressState  AddressZip       PlaceType  \\\n",
              "0     PHOENIX           AZ       85003  POLICE STATION   \n",
              "1     PHOENIX           AZ       85029  POLICE STATION   \n",
              "2     PHOENIX           AZ       85034  POLICE STATION   \n",
              "3     PHOENIX           AZ       85034  POLICE STATION   \n",
              "4     PHOENIX           AZ       85035  POLICE STATION   \n",
              "\n",
              "                                            PlaceWeb    DegreesX   DegreesY  \\\n",
              "0                     https://www.phoenix.gov/police -112.081994  33.448525   \n",
              "1  https://www.phoenix.gov/police/precincts/cactu... -112.143411  33.597083   \n",
              "2  https://www.phoenix.gov/police/precincts/centr... -112.049179  33.429311   \n",
              "3                                                NaN -112.019420  33.437871   \n",
              "4  https://www.phoenix.gov/police/precincts/maryvale -112.192883  33.474351   \n",
              "\n",
              "  PlaceAccess  OBJECTID PlaceStatus  \n",
              "0      PUBLIC        30        OPEN  \n",
              "1      PUBLIC       233        OPEN  \n",
              "2      PUBLIC       269        OPEN  \n",
              "3      PUBLIC       276        OPEN  \n",
              "4      PUBLIC       301        OPEN  "
            ],
            "text/html": [
              "\n",
              "  <div id=\"df-4dd21a89-8943-40ee-ac5c-009d60ce8b05\">\n",
              "    <div class=\"colab-df-container\">\n",
              "      <div>\n",
              "<style scoped>\n",
              "    .dataframe tbody tr th:only-of-type {\n",
              "        vertical-align: middle;\n",
              "    }\n",
              "\n",
              "    .dataframe tbody tr th {\n",
              "        vertical-align: top;\n",
              "    }\n",
              "\n",
              "    .dataframe thead th {\n",
              "        text-align: right;\n",
              "    }\n",
              "</style>\n",
              "<table border=\"1\" class=\"dataframe\">\n",
              "  <thead>\n",
              "    <tr style=\"text-align: right;\">\n",
              "      <th></th>\n",
              "      <th>X</th>\n",
              "      <th>Y</th>\n",
              "      <th>PlaceName</th>\n",
              "      <th>AddressFull</th>\n",
              "      <th>AddressCity</th>\n",
              "      <th>AddressState</th>\n",
              "      <th>AddressZip</th>\n",
              "      <th>PlaceType</th>\n",
              "      <th>PlaceWeb</th>\n",
              "      <th>DegreesX</th>\n",
              "      <th>DegreesY</th>\n",
              "      <th>PlaceAccess</th>\n",
              "      <th>OBJECTID</th>\n",
              "      <th>PlaceStatus</th>\n",
              "    </tr>\n",
              "  </thead>\n",
              "  <tbody>\n",
              "    <tr>\n",
              "      <th>0</th>\n",
              "      <td>-112.081994</td>\n",
              "      <td>33.448525</td>\n",
              "      <td>Phoenix Police Headquarters</td>\n",
              "      <td>620 W WASHINGTON ST</td>\n",
              "      <td>PHOENIX</td>\n",
              "      <td>AZ</td>\n",
              "      <td>85003</td>\n",
              "      <td>POLICE STATION</td>\n",
              "      <td>https://www.phoenix.gov/police</td>\n",
              "      <td>-112.081994</td>\n",
              "      <td>33.448525</td>\n",
              "      <td>PUBLIC</td>\n",
              "      <td>30</td>\n",
              "      <td>OPEN</td>\n",
              "    </tr>\n",
              "    <tr>\n",
              "      <th>1</th>\n",
              "      <td>-112.143411</td>\n",
              "      <td>33.597083</td>\n",
              "      <td>Cactus Park Precinct</td>\n",
              "      <td>12220 N 39TH AVE</td>\n",
              "      <td>PHOENIX</td>\n",
              "      <td>AZ</td>\n",
              "      <td>85029</td>\n",
              "      <td>POLICE STATION</td>\n",
              "      <td>https://www.phoenix.gov/police/precincts/cactu...</td>\n",
              "      <td>-112.143411</td>\n",
              "      <td>33.597083</td>\n",
              "      <td>PUBLIC</td>\n",
              "      <td>233</td>\n",
              "      <td>OPEN</td>\n",
              "    </tr>\n",
              "    <tr>\n",
              "      <th>2</th>\n",
              "      <td>-112.049179</td>\n",
              "      <td>33.429311</td>\n",
              "      <td>Central City Precinct</td>\n",
              "      <td>1902 S 16TH ST</td>\n",
              "      <td>PHOENIX</td>\n",
              "      <td>AZ</td>\n",
              "      <td>85034</td>\n",
              "      <td>POLICE STATION</td>\n",
              "      <td>https://www.phoenix.gov/police/precincts/centr...</td>\n",
              "      <td>-112.049179</td>\n",
              "      <td>33.429311</td>\n",
              "      <td>PUBLIC</td>\n",
              "      <td>269</td>\n",
              "      <td>OPEN</td>\n",
              "    </tr>\n",
              "    <tr>\n",
              "      <th>3</th>\n",
              "      <td>-112.019420</td>\n",
              "      <td>33.437871</td>\n",
              "      <td>Airport Bureau</td>\n",
              "      <td>2908 E SKY HARBOR BLVD</td>\n",
              "      <td>PHOENIX</td>\n",
              "      <td>AZ</td>\n",
              "      <td>85034</td>\n",
              "      <td>POLICE STATION</td>\n",
              "      <td>NaN</td>\n",
              "      <td>-112.019420</td>\n",
              "      <td>33.437871</td>\n",
              "      <td>PUBLIC</td>\n",
              "      <td>276</td>\n",
              "      <td>OPEN</td>\n",
              "    </tr>\n",
              "    <tr>\n",
              "      <th>4</th>\n",
              "      <td>-112.192883</td>\n",
              "      <td>33.474351</td>\n",
              "      <td>Maryvale Station</td>\n",
              "      <td>6180 W ENCANTO BLVD</td>\n",
              "      <td>PHOENIX</td>\n",
              "      <td>AZ</td>\n",
              "      <td>85035</td>\n",
              "      <td>POLICE STATION</td>\n",
              "      <td>https://www.phoenix.gov/police/precincts/maryvale</td>\n",
              "      <td>-112.192883</td>\n",
              "      <td>33.474351</td>\n",
              "      <td>PUBLIC</td>\n",
              "      <td>301</td>\n",
              "      <td>OPEN</td>\n",
              "    </tr>\n",
              "  </tbody>\n",
              "</table>\n",
              "</div>\n",
              "      <button class=\"colab-df-convert\" onclick=\"convertToInteractive('df-4dd21a89-8943-40ee-ac5c-009d60ce8b05')\"\n",
              "              title=\"Convert this dataframe to an interactive table.\"\n",
              "              style=\"display:none;\">\n",
              "        \n",
              "  <svg xmlns=\"http://www.w3.org/2000/svg\" height=\"24px\"viewBox=\"0 0 24 24\"\n",
              "       width=\"24px\">\n",
              "    <path d=\"M0 0h24v24H0V0z\" fill=\"none\"/>\n",
              "    <path d=\"M18.56 5.44l.94 2.06.94-2.06 2.06-.94-2.06-.94-.94-2.06-.94 2.06-2.06.94zm-11 1L8.5 8.5l.94-2.06 2.06-.94-2.06-.94L8.5 2.5l-.94 2.06-2.06.94zm10 10l.94 2.06.94-2.06 2.06-.94-2.06-.94-.94-2.06-.94 2.06-2.06.94z\"/><path d=\"M17.41 7.96l-1.37-1.37c-.4-.4-.92-.59-1.43-.59-.52 0-1.04.2-1.43.59L10.3 9.45l-7.72 7.72c-.78.78-.78 2.05 0 2.83L4 21.41c.39.39.9.59 1.41.59.51 0 1.02-.2 1.41-.59l7.78-7.78 2.81-2.81c.8-.78.8-2.07 0-2.86zM5.41 20L4 18.59l7.72-7.72 1.47 1.35L5.41 20z\"/>\n",
              "  </svg>\n",
              "      </button>\n",
              "      \n",
              "  <style>\n",
              "    .colab-df-container {\n",
              "      display:flex;\n",
              "      flex-wrap:wrap;\n",
              "      gap: 12px;\n",
              "    }\n",
              "\n",
              "    .colab-df-convert {\n",
              "      background-color: #E8F0FE;\n",
              "      border: none;\n",
              "      border-radius: 50%;\n",
              "      cursor: pointer;\n",
              "      display: none;\n",
              "      fill: #1967D2;\n",
              "      height: 32px;\n",
              "      padding: 0 0 0 0;\n",
              "      width: 32px;\n",
              "    }\n",
              "\n",
              "    .colab-df-convert:hover {\n",
              "      background-color: #E2EBFA;\n",
              "      box-shadow: 0px 1px 2px rgba(60, 64, 67, 0.3), 0px 1px 3px 1px rgba(60, 64, 67, 0.15);\n",
              "      fill: #174EA6;\n",
              "    }\n",
              "\n",
              "    [theme=dark] .colab-df-convert {\n",
              "      background-color: #3B4455;\n",
              "      fill: #D2E3FC;\n",
              "    }\n",
              "\n",
              "    [theme=dark] .colab-df-convert:hover {\n",
              "      background-color: #434B5C;\n",
              "      box-shadow: 0px 1px 3px 1px rgba(0, 0, 0, 0.15);\n",
              "      filter: drop-shadow(0px 1px 2px rgba(0, 0, 0, 0.3));\n",
              "      fill: #FFFFFF;\n",
              "    }\n",
              "  </style>\n",
              "\n",
              "      <script>\n",
              "        const buttonEl =\n",
              "          document.querySelector('#df-4dd21a89-8943-40ee-ac5c-009d60ce8b05 button.colab-df-convert');\n",
              "        buttonEl.style.display =\n",
              "          google.colab.kernel.accessAllowed ? 'block' : 'none';\n",
              "\n",
              "        async function convertToInteractive(key) {\n",
              "          const element = document.querySelector('#df-4dd21a89-8943-40ee-ac5c-009d60ce8b05');\n",
              "          const dataTable =\n",
              "            await google.colab.kernel.invokeFunction('convertToInteractive',\n",
              "                                                     [key], {});\n",
              "          if (!dataTable) return;\n",
              "\n",
              "          const docLinkHtml = 'Like what you see? Visit the ' +\n",
              "            '<a target=\"_blank\" href=https://colab.research.google.com/notebooks/data_table.ipynb>data table notebook</a>'\n",
              "            + ' to learn more about interactive tables.';\n",
              "          element.innerHTML = '';\n",
              "          dataTable['output_type'] = 'display_data';\n",
              "          await google.colab.output.renderOutput(dataTable, element);\n",
              "          const docLink = document.createElement('div');\n",
              "          docLink.innerHTML = docLinkHtml;\n",
              "          element.appendChild(docLink);\n",
              "        }\n",
              "      </script>\n",
              "    </div>\n",
              "  </div>\n",
              "  "
            ]
          },
          "metadata": {},
          "execution_count": 263
        }
      ]
    },
    {
      "cell_type": "markdown",
      "source": [
        "**Data Preprocessing**: Crime"
      ],
      "metadata": {
        "id": "EaWbhRfbucXv"
      }
    },
    {
      "cell_type": "code",
      "source": [
        "crime.isna().sum()"
      ],
      "metadata": {
        "colab": {
          "base_uri": "https://localhost:8080/"
        },
        "id": "yN08ewtxyf1J",
        "outputId": "ed9d85f4-6bc0-44d4-b4a7-dee43f88e7a3"
      },
      "execution_count": 264,
      "outputs": [
        {
          "output_type": "execute_result",
          "data": {
            "text/plain": [
              "INC NUMBER                0\n",
              "OCCURRED ON             316\n",
              "OCCURRED TO           38502\n",
              "UCR CRIME CATEGORY        0\n",
              "100 BLOCK ADDR            0\n",
              "ZIP                       3\n",
              "PREMISE TYPE            757\n",
              "dtype: int64"
            ]
          },
          "metadata": {},
          "execution_count": 264
        }
      ]
    },
    {
      "cell_type": "code",
      "source": [
        "del crime['OCCURRED TO']\n",
        "crime['PREMISE TYPE'].fillna(\"Unknown\",inplace = True)\n",
        "crime = crime.loc[~crime['ZIP'].isna()]\n",
        "crime.dropna(inplace = True)"
      ],
      "metadata": {
        "id": "G6PyCyOZzID-"
      },
      "execution_count": 265,
      "outputs": []
    },
    {
      "cell_type": "markdown",
      "source": [
        "Extract Year month day and remove time since I'm not going to use time in this project."
      ],
      "metadata": {
        "id": "I6_nc8Oq5VzI"
      }
    },
    {
      "cell_type": "code",
      "source": [
        "datet = crime['OCCURRED ON']\n",
        "new_date = [i[:10] for i in datet]\n",
        "crime['OCCURRED ON'] = new_date"
      ],
      "metadata": {
        "id": "su4gLTbnueVw"
      },
      "execution_count": 266,
      "outputs": []
    },
    {
      "cell_type": "markdown",
      "source": [
        "Extract year and month from `OCCURRED ON` for further join with unemployment dataset"
      ],
      "metadata": {
        "id": "TNcb1NAX6V5n"
      }
    },
    {
      "cell_type": "code",
      "source": [
        "# Year Month\n",
        "crime['year'] = pd.DatetimeIndex(crime['OCCURRED ON']).year\n",
        "crime['month'] = pd.DatetimeIndex(crime['OCCURRED ON']).month"
      ],
      "metadata": {
        "id": "50g-s8Sj5rxx"
      },
      "execution_count": 267,
      "outputs": []
    },
    {
      "cell_type": "markdown",
      "source": [
        "**Data Reprocessing**: Unemployment"
      ],
      "metadata": {
        "id": "A58rmby83l5h"
      }
    },
    {
      "cell_type": "markdown",
      "source": [
        "Remove redundant columns `city` and `state`.\n"
      ],
      "metadata": {
        "id": "V61uIcY143t9"
      }
    },
    {
      "cell_type": "code",
      "source": [
        "unemployment.isna().sum()"
      ],
      "metadata": {
        "colab": {
          "base_uri": "https://localhost:8080/"
        },
        "id": "60THi3cf61pW",
        "outputId": "a0e07c73-f619-4a00-dcfd-c7aa9d9b320d"
      },
      "execution_count": 268,
      "outputs": [
        {
          "output_type": "execute_result",
          "data": {
            "text/plain": [
              "series_id            0\n",
              "city                 0\n",
              "state                0\n",
              "year                 0\n",
              "month                0\n",
              "unemployment_rate    0\n",
              "dtype: int64"
            ]
          },
          "metadata": {},
          "execution_count": 268
        }
      ]
    },
    {
      "cell_type": "code",
      "source": [
        "unemployment.drop(columns = ['series_id','city','state'],inplace = True)"
      ],
      "metadata": {
        "id": "IgBLiouVw5lu"
      },
      "execution_count": 269,
      "outputs": []
    },
    {
      "cell_type": "markdown",
      "source": [
        "**Data Reprocessing**: Police Office"
      ],
      "metadata": {
        "id": "CVXBocUV66a2"
      }
    },
    {
      "cell_type": "code",
      "source": [
        "police.isna().sum()\n",
        "police.head()"
      ],
      "metadata": {
        "colab": {
          "base_uri": "https://localhost:8080/",
          "height": 409
        },
        "id": "ZcqiVnzf6-7U",
        "outputId": "fcc3ae2a-7acf-4ce7-dc9e-fc2bf730d4af"
      },
      "execution_count": 270,
      "outputs": [
        {
          "output_type": "execute_result",
          "data": {
            "text/plain": [
              "            X          Y                    PlaceName             AddressFull  \\\n",
              "0 -112.081994  33.448525  Phoenix Police Headquarters     620 W WASHINGTON ST   \n",
              "1 -112.143411  33.597083         Cactus Park Precinct        12220 N 39TH AVE   \n",
              "2 -112.049179  33.429311        Central City Precinct          1902 S 16TH ST   \n",
              "3 -112.019420  33.437871               Airport Bureau  2908 E SKY HARBOR BLVD   \n",
              "4 -112.192883  33.474351             Maryvale Station     6180 W ENCANTO BLVD   \n",
              "\n",
              "  AddressCity AddressState  AddressZip       PlaceType  \\\n",
              "0     PHOENIX           AZ       85003  POLICE STATION   \n",
              "1     PHOENIX           AZ       85029  POLICE STATION   \n",
              "2     PHOENIX           AZ       85034  POLICE STATION   \n",
              "3     PHOENIX           AZ       85034  POLICE STATION   \n",
              "4     PHOENIX           AZ       85035  POLICE STATION   \n",
              "\n",
              "                                            PlaceWeb    DegreesX   DegreesY  \\\n",
              "0                     https://www.phoenix.gov/police -112.081994  33.448525   \n",
              "1  https://www.phoenix.gov/police/precincts/cactu... -112.143411  33.597083   \n",
              "2  https://www.phoenix.gov/police/precincts/centr... -112.049179  33.429311   \n",
              "3                                                NaN -112.019420  33.437871   \n",
              "4  https://www.phoenix.gov/police/precincts/maryvale -112.192883  33.474351   \n",
              "\n",
              "  PlaceAccess  OBJECTID PlaceStatus  \n",
              "0      PUBLIC        30        OPEN  \n",
              "1      PUBLIC       233        OPEN  \n",
              "2      PUBLIC       269        OPEN  \n",
              "3      PUBLIC       276        OPEN  \n",
              "4      PUBLIC       301        OPEN  "
            ],
            "text/html": [
              "\n",
              "  <div id=\"df-a9c3dcd5-397b-417d-a8eb-fd5e5335105f\">\n",
              "    <div class=\"colab-df-container\">\n",
              "      <div>\n",
              "<style scoped>\n",
              "    .dataframe tbody tr th:only-of-type {\n",
              "        vertical-align: middle;\n",
              "    }\n",
              "\n",
              "    .dataframe tbody tr th {\n",
              "        vertical-align: top;\n",
              "    }\n",
              "\n",
              "    .dataframe thead th {\n",
              "        text-align: right;\n",
              "    }\n",
              "</style>\n",
              "<table border=\"1\" class=\"dataframe\">\n",
              "  <thead>\n",
              "    <tr style=\"text-align: right;\">\n",
              "      <th></th>\n",
              "      <th>X</th>\n",
              "      <th>Y</th>\n",
              "      <th>PlaceName</th>\n",
              "      <th>AddressFull</th>\n",
              "      <th>AddressCity</th>\n",
              "      <th>AddressState</th>\n",
              "      <th>AddressZip</th>\n",
              "      <th>PlaceType</th>\n",
              "      <th>PlaceWeb</th>\n",
              "      <th>DegreesX</th>\n",
              "      <th>DegreesY</th>\n",
              "      <th>PlaceAccess</th>\n",
              "      <th>OBJECTID</th>\n",
              "      <th>PlaceStatus</th>\n",
              "    </tr>\n",
              "  </thead>\n",
              "  <tbody>\n",
              "    <tr>\n",
              "      <th>0</th>\n",
              "      <td>-112.081994</td>\n",
              "      <td>33.448525</td>\n",
              "      <td>Phoenix Police Headquarters</td>\n",
              "      <td>620 W WASHINGTON ST</td>\n",
              "      <td>PHOENIX</td>\n",
              "      <td>AZ</td>\n",
              "      <td>85003</td>\n",
              "      <td>POLICE STATION</td>\n",
              "      <td>https://www.phoenix.gov/police</td>\n",
              "      <td>-112.081994</td>\n",
              "      <td>33.448525</td>\n",
              "      <td>PUBLIC</td>\n",
              "      <td>30</td>\n",
              "      <td>OPEN</td>\n",
              "    </tr>\n",
              "    <tr>\n",
              "      <th>1</th>\n",
              "      <td>-112.143411</td>\n",
              "      <td>33.597083</td>\n",
              "      <td>Cactus Park Precinct</td>\n",
              "      <td>12220 N 39TH AVE</td>\n",
              "      <td>PHOENIX</td>\n",
              "      <td>AZ</td>\n",
              "      <td>85029</td>\n",
              "      <td>POLICE STATION</td>\n",
              "      <td>https://www.phoenix.gov/police/precincts/cactu...</td>\n",
              "      <td>-112.143411</td>\n",
              "      <td>33.597083</td>\n",
              "      <td>PUBLIC</td>\n",
              "      <td>233</td>\n",
              "      <td>OPEN</td>\n",
              "    </tr>\n",
              "    <tr>\n",
              "      <th>2</th>\n",
              "      <td>-112.049179</td>\n",
              "      <td>33.429311</td>\n",
              "      <td>Central City Precinct</td>\n",
              "      <td>1902 S 16TH ST</td>\n",
              "      <td>PHOENIX</td>\n",
              "      <td>AZ</td>\n",
              "      <td>85034</td>\n",
              "      <td>POLICE STATION</td>\n",
              "      <td>https://www.phoenix.gov/police/precincts/centr...</td>\n",
              "      <td>-112.049179</td>\n",
              "      <td>33.429311</td>\n",
              "      <td>PUBLIC</td>\n",
              "      <td>269</td>\n",
              "      <td>OPEN</td>\n",
              "    </tr>\n",
              "    <tr>\n",
              "      <th>3</th>\n",
              "      <td>-112.019420</td>\n",
              "      <td>33.437871</td>\n",
              "      <td>Airport Bureau</td>\n",
              "      <td>2908 E SKY HARBOR BLVD</td>\n",
              "      <td>PHOENIX</td>\n",
              "      <td>AZ</td>\n",
              "      <td>85034</td>\n",
              "      <td>POLICE STATION</td>\n",
              "      <td>NaN</td>\n",
              "      <td>-112.019420</td>\n",
              "      <td>33.437871</td>\n",
              "      <td>PUBLIC</td>\n",
              "      <td>276</td>\n",
              "      <td>OPEN</td>\n",
              "    </tr>\n",
              "    <tr>\n",
              "      <th>4</th>\n",
              "      <td>-112.192883</td>\n",
              "      <td>33.474351</td>\n",
              "      <td>Maryvale Station</td>\n",
              "      <td>6180 W ENCANTO BLVD</td>\n",
              "      <td>PHOENIX</td>\n",
              "      <td>AZ</td>\n",
              "      <td>85035</td>\n",
              "      <td>POLICE STATION</td>\n",
              "      <td>https://www.phoenix.gov/police/precincts/maryvale</td>\n",
              "      <td>-112.192883</td>\n",
              "      <td>33.474351</td>\n",
              "      <td>PUBLIC</td>\n",
              "      <td>301</td>\n",
              "      <td>OPEN</td>\n",
              "    </tr>\n",
              "  </tbody>\n",
              "</table>\n",
              "</div>\n",
              "      <button class=\"colab-df-convert\" onclick=\"convertToInteractive('df-a9c3dcd5-397b-417d-a8eb-fd5e5335105f')\"\n",
              "              title=\"Convert this dataframe to an interactive table.\"\n",
              "              style=\"display:none;\">\n",
              "        \n",
              "  <svg xmlns=\"http://www.w3.org/2000/svg\" height=\"24px\"viewBox=\"0 0 24 24\"\n",
              "       width=\"24px\">\n",
              "    <path d=\"M0 0h24v24H0V0z\" fill=\"none\"/>\n",
              "    <path d=\"M18.56 5.44l.94 2.06.94-2.06 2.06-.94-2.06-.94-.94-2.06-.94 2.06-2.06.94zm-11 1L8.5 8.5l.94-2.06 2.06-.94-2.06-.94L8.5 2.5l-.94 2.06-2.06.94zm10 10l.94 2.06.94-2.06 2.06-.94-2.06-.94-.94-2.06-.94 2.06-2.06.94z\"/><path d=\"M17.41 7.96l-1.37-1.37c-.4-.4-.92-.59-1.43-.59-.52 0-1.04.2-1.43.59L10.3 9.45l-7.72 7.72c-.78.78-.78 2.05 0 2.83L4 21.41c.39.39.9.59 1.41.59.51 0 1.02-.2 1.41-.59l7.78-7.78 2.81-2.81c.8-.78.8-2.07 0-2.86zM5.41 20L4 18.59l7.72-7.72 1.47 1.35L5.41 20z\"/>\n",
              "  </svg>\n",
              "      </button>\n",
              "      \n",
              "  <style>\n",
              "    .colab-df-container {\n",
              "      display:flex;\n",
              "      flex-wrap:wrap;\n",
              "      gap: 12px;\n",
              "    }\n",
              "\n",
              "    .colab-df-convert {\n",
              "      background-color: #E8F0FE;\n",
              "      border: none;\n",
              "      border-radius: 50%;\n",
              "      cursor: pointer;\n",
              "      display: none;\n",
              "      fill: #1967D2;\n",
              "      height: 32px;\n",
              "      padding: 0 0 0 0;\n",
              "      width: 32px;\n",
              "    }\n",
              "\n",
              "    .colab-df-convert:hover {\n",
              "      background-color: #E2EBFA;\n",
              "      box-shadow: 0px 1px 2px rgba(60, 64, 67, 0.3), 0px 1px 3px 1px rgba(60, 64, 67, 0.15);\n",
              "      fill: #174EA6;\n",
              "    }\n",
              "\n",
              "    [theme=dark] .colab-df-convert {\n",
              "      background-color: #3B4455;\n",
              "      fill: #D2E3FC;\n",
              "    }\n",
              "\n",
              "    [theme=dark] .colab-df-convert:hover {\n",
              "      background-color: #434B5C;\n",
              "      box-shadow: 0px 1px 3px 1px rgba(0, 0, 0, 0.15);\n",
              "      filter: drop-shadow(0px 1px 2px rgba(0, 0, 0, 0.3));\n",
              "      fill: #FFFFFF;\n",
              "    }\n",
              "  </style>\n",
              "\n",
              "      <script>\n",
              "        const buttonEl =\n",
              "          document.querySelector('#df-a9c3dcd5-397b-417d-a8eb-fd5e5335105f button.colab-df-convert');\n",
              "        buttonEl.style.display =\n",
              "          google.colab.kernel.accessAllowed ? 'block' : 'none';\n",
              "\n",
              "        async function convertToInteractive(key) {\n",
              "          const element = document.querySelector('#df-a9c3dcd5-397b-417d-a8eb-fd5e5335105f');\n",
              "          const dataTable =\n",
              "            await google.colab.kernel.invokeFunction('convertToInteractive',\n",
              "                                                     [key], {});\n",
              "          if (!dataTable) return;\n",
              "\n",
              "          const docLinkHtml = 'Like what you see? Visit the ' +\n",
              "            '<a target=\"_blank\" href=https://colab.research.google.com/notebooks/data_table.ipynb>data table notebook</a>'\n",
              "            + ' to learn more about interactive tables.';\n",
              "          element.innerHTML = '';\n",
              "          dataTable['output_type'] = 'display_data';\n",
              "          await google.colab.output.renderOutput(dataTable, element);\n",
              "          const docLink = document.createElement('div');\n",
              "          docLink.innerHTML = docLinkHtml;\n",
              "          element.appendChild(docLink);\n",
              "        }\n",
              "      </script>\n",
              "    </div>\n",
              "  </div>\n",
              "  "
            ]
          },
          "metadata": {},
          "execution_count": 270
        }
      ]
    },
    {
      "cell_type": "code",
      "source": [
        "police = police[['PlaceName','AddressFull','AddressZip']]"
      ],
      "metadata": {
        "id": "cG5GgvkW7I74"
      },
      "execution_count": 271,
      "outputs": []
    },
    {
      "cell_type": "markdown",
      "source": [
        "**Merge/Join Dataset**"
      ],
      "metadata": {
        "id": "3jD0s5ru8VRd"
      }
    },
    {
      "cell_type": "markdown",
      "source": [
        "Join `crime` and `police` dataset"
      ],
      "metadata": {
        "id": "U7pNz_He-Bzq"
      }
    },
    {
      "cell_type": "code",
      "source": [
        "crime_police = crime.merge(police, left_on = 'ZIP',right_on = 'AddressZip', how = 'left')"
      ],
      "metadata": {
        "id": "BQrM9P4G8ZCc"
      },
      "execution_count": 272,
      "outputs": []
    },
    {
      "cell_type": "code",
      "source": [
        "crime_police = crime_police.drop(['AddressZip'],axis = 1)"
      ],
      "metadata": {
        "id": "Lc6Emo9T--gt"
      },
      "execution_count": 273,
      "outputs": []
    },
    {
      "cell_type": "code",
      "source": [
        "crime_police.rename(columns ={\n",
        "    '100 BLOCK ADDR':'CRIME ADDR',\n",
        "    'PlaceName':'Police_off_Name',\n",
        "    'AddressFull' :'Police_Addr'\n",
        "},inplace = True)"
      ],
      "metadata": {
        "id": "t0pF3yG09R5g"
      },
      "execution_count": 274,
      "outputs": []
    },
    {
      "cell_type": "code",
      "source": [
        "unemployment.columns"
      ],
      "metadata": {
        "colab": {
          "base_uri": "https://localhost:8080/"
        },
        "id": "Zas2dqOq-cK3",
        "outputId": "0340205c-693d-4a09-c6da-2c4729e44372"
      },
      "execution_count": 275,
      "outputs": [
        {
          "output_type": "execute_result",
          "data": {
            "text/plain": [
              "Index(['year', 'month', 'unemployment_rate'], dtype='object')"
            ]
          },
          "metadata": {},
          "execution_count": 275
        }
      ]
    },
    {
      "cell_type": "markdown",
      "source": [
        "Join `crime_police` and `unemployment` dataset"
      ],
      "metadata": {
        "id": "dTTcFo4q-J3D"
      }
    },
    {
      "cell_type": "code",
      "source": [
        "df_final = crime_police.merge (unemployment,left_on = ['year','month'],right_on = ['year','month'] ,how ='left')"
      ],
      "metadata": {
        "id": "FYbxFw-R-QWR"
      },
      "execution_count": 276,
      "outputs": []
    },
    {
      "cell_type": "code",
      "source": [
        "df_final.columns"
      ],
      "metadata": {
        "colab": {
          "base_uri": "https://localhost:8080/"
        },
        "id": "nKhTlotB-yv1",
        "outputId": "885dcdf8-c00d-454f-ee6c-b318c59dfaed"
      },
      "execution_count": 277,
      "outputs": [
        {
          "output_type": "execute_result",
          "data": {
            "text/plain": [
              "Index(['INC NUMBER', 'OCCURRED ON', 'UCR CRIME CATEGORY', 'CRIME ADDR', 'ZIP',\n",
              "       'PREMISE TYPE', 'year', 'month', 'Police_off_Name', 'Police_Addr',\n",
              "       'unemployment_rate'],\n",
              "      dtype='object')"
            ]
          },
          "metadata": {},
          "execution_count": 277
        }
      ]
    },
    {
      "cell_type": "markdown",
      "source": [
        "Save the new dataset as .csv"
      ],
      "metadata": {
        "id": "S-PZasYa_il0"
      }
    },
    {
      "cell_type": "code",
      "source": [
        "df_final.to_csv(\"phoenix.csv\")"
      ],
      "metadata": {
        "id": "8ace041W_mhP"
      },
      "execution_count": 278,
      "outputs": []
    },
    {
      "cell_type": "markdown",
      "source": [
        "**Observation in Unemployment rate and crime**"
      ],
      "metadata": {
        "id": "rO1by0hy_9-f"
      }
    },
    {
      "cell_type": "code",
      "source": [
        "unemploy_crime = df_final.groupby(['year','month']).agg({'INC NUMBER':'count','unemployment_rate':'mean'})\n",
        "unemploy_crime.reset_index(inplace =True)"
      ],
      "metadata": {
        "id": "bo24AppcBZHT"
      },
      "execution_count": 279,
      "outputs": []
    },
    {
      "cell_type": "code",
      "source": [
        "unemploy_crime = unemploy_crime.rename(columns ={'INC NUMBER':'Count of crime',\n",
        "                                'unemployment_rate':'Avg_unemployment_rate'})"
      ],
      "metadata": {
        "id": "_CA-riCaDDhE"
      },
      "execution_count": 280,
      "outputs": []
    },
    {
      "cell_type": "code",
      "source": [
        "sns.scatterplot(y = 'Count of crime', \n",
        "                x = 'Avg_unemployment_rate', \n",
        "                hue = 'year', \n",
        "                data = unemploy_crime)\n",
        "plt.show()"
      ],
      "metadata": {
        "colab": {
          "base_uri": "https://localhost:8080/",
          "height": 280
        },
        "id": "P2jJZHYbAOHh",
        "outputId": "15e0e3ea-4893-4311-cb6c-fa42cb46bdc6"
      },
      "execution_count": 281,
      "outputs": [
        {
          "output_type": "display_data",
          "data": {
            "text/plain": [
              "<Figure size 432x288 with 1 Axes>"
            ],
            "image/png": "[encoded data removed]"
          },
          "metadata": {
            "needs_background": "light"
          }
        }
      ]
    },
    {
      "cell_type": "markdown",
      "source": [
        "Look at the regression after remove the outlier located around (3000, 4)"
      ],
      "metadata": {
        "id": "ObF3NDDTEPCB"
      }
    },
    {
      "cell_type": "code",
      "source": [
        "# Locate and remove the outlier\n",
        "print(np.where((unemploy_crime['Count of crime']<3500) & (unemploy_crime['Avg_unemployment_rate']<4.2)))\n",
        "unemploy_crime.iloc[24]\n",
        "unemploy_crime.drop(unemploy_crime.index[24],inplace = True)"
      ],
      "metadata": {
        "colab": {
          "base_uri": "https://localhost:8080/"
        },
        "id": "dcWzVRmEEmpl",
        "outputId": "746513f9-d485-4b10-d0bd-8eb3fa09b564"
      },
      "execution_count": 282,
      "outputs": [
        {
          "output_type": "stream",
          "name": "stdout",
          "text": [
            "(array([24]),)\n"
          ]
        }
      ]
    },
    {
      "cell_type": "markdown",
      "source": [
        "The regression shows that with the increase in average unemployment rate, the count of crime is expected to decrease."
      ],
      "metadata": {
        "id": "8iqOtsnVGTCQ"
      }
    },
    {
      "cell_type": "code",
      "source": [
        "sns.regplot(y = 'Count of crime', \n",
        "            x = 'Avg_unemployment_rate', \n",
        "            data = unemploy_crime,\n",
        "            ci = 95)\n",
        "plt.show()"
      ],
      "metadata": {
        "colab": {
          "base_uri": "https://localhost:8080/",
          "height": 280
        },
        "id": "zJK6jhCqEBKR",
        "outputId": "50982efa-0d4a-4133-9630-5a07b148f2ee"
      },
      "execution_count": 283,
      "outputs": [
        {
          "output_type": "display_data",
          "data": {
            "text/plain": [
              "<Figure size 432x288 with 1 Axes>"
            ],
            "image/png": "[encoded data removed]"
          },
          "metadata": {
            "needs_background": "light"
          }
        }
      ]
    },
    {
      "cell_type": "markdown",
      "source": [
        "**Observation in police office and crime**"
      ],
      "metadata": {
        "id": "eQijbjXfHPyT"
      }
    },
    {
      "cell_type": "markdown",
      "source": [
        "Add a column whether the location has a police office or not (1 means yes, 0 means no)"
      ],
      "metadata": {
        "id": "ZlBTzmAVLvNr"
      }
    },
    {
      "cell_type": "code",
      "source": [
        "df_final['Police_Addr'].fillna(0,inplace = True)\n",
        "police_office =[]\n",
        "for i in df_final['Police_Addr']:\n",
        "  if i == 0:\n",
        "    police_office.append('No')\n",
        "  else:\n",
        "    police_office.append('Yes')"
      ],
      "metadata": {
        "id": "fcr69WIhHojz"
      },
      "execution_count": 286,
      "outputs": []
    },
    {
      "cell_type": "code",
      "source": [
        "df_final['police_office'] = police_office"
      ],
      "metadata": {
        "id": "z26ubGN4IwRF"
      },
      "execution_count": 287,
      "outputs": []
    },
    {
      "cell_type": "code",
      "source": [
        "police_crime = pd.DataFrame(df_final.groupby('police_office')['INC NUMBER'].count()).reset_index()"
      ],
      "metadata": {
        "id": "isNQWP47I4Ay"
      },
      "execution_count": 288,
      "outputs": []
    },
    {
      "cell_type": "code",
      "source": [
        "police_crime.rename(columns = {'INC NUMBER':'Count of Crime'},inplace = True)"
      ],
      "metadata": {
        "id": "XvZxSkGnJiPK"
      },
      "execution_count": 290,
      "outputs": []
    },
    {
      "cell_type": "code",
      "source": [
        "# Bar plot\n",
        "police_crime.plot.bar( x = 'police_office', y ='Count of Crime',color = 'darkred')\n",
        "plt.xlabel(\"Have Police Office Nearby?\")\n",
        "plt.ylabel(\"Count of Crime\")\n",
        "plt.show()\n",
        "# Pie chart\n",
        "police_crime['percentage'] = round(police_crime['Count of Crime']/np.sum(police_crime['Count of Crime']),2)\n",
        "label = ['No','Yes']\n",
        "plt.pie(police_crime['percentage'],labels = label,autopct='%.1f%%')\n",
        "plt.show()"
      ],
      "metadata": {
        "colab": {
          "base_uri": "https://localhost:8080/",
          "height": 516
        },
        "id": "WJZp1muFKAuH",
        "outputId": "b2534c77-3c0d-4e17-c89c-69ab2aeaf9af"
      },
      "execution_count": 321,
      "outputs": [
        {
          "output_type": "display_data",
          "data": {
            "text/plain": [
              "<Figure size 432x288 with 1 Axes>"
            ],
            "image/png": "[encoded data removed]"
          },
          "metadata": {
            "needs_background": "light"
          }
        },
        {
          "output_type": "display_data",
          "data": {
            "text/plain": [
              "<Figure size 432x288 with 1 Axes>"
            ],
            "image/png": "[encoded data removed]"
          },
          "metadata": {}
        }
      ]
    },
    {
      "cell_type": "markdown",
      "source": [
        "78% of all crime occured in somewhere has no police office, and 22% of all crime occured in somewhere has a police office. Therefore, whether there is a police office or not have impact on the crime rate, and building a police office at high crime area can lower the crime rate."
      ],
      "metadata": {
        "id": "CnT_gX-XL0NZ"
      }
    }
  ]
}